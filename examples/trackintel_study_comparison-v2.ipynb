{
 "cells": [
  {
   "cell_type": "markdown",
   "id": "e3e58b59",
   "metadata": {},
   "source": [
    "\n",
    "# Trackintel case study - Tracking dataset comparison\n",
    "This notebook presents a case-study to jointly analyse four different tracking datasets using [trackintel](https://github.com/mie-lab/trackintel). \n",
    "Three of the datasets that are used in this case study can not be published to protect the privacy of the participants. You can find an executable example notebook for trackintel here: [binder](https://mybinder.org/v2/gh/mie-lab/trackintel/HEAD?urlpath=https%3A%2F%2Fgithub.com%2Fmie-lab%2Ftrackintel%2Fblob%2Fmaster%2Fexamples%2Ftrackintel_basic_tutorial.ipynb) [code](https://github.com/mie-lab/trackintel/blob/master/examples/trackintel_basic_tutorial.ipynb)"
   ]
  },
  {
   "cell_type": "markdown",
   "id": "e2d2d290",
   "metadata": {},
   "source": [
    "## Imports"
   ]
  },
  {
   "cell_type": "code",
   "execution_count": 19,
   "id": "e4ab09af",
   "metadata": {},
   "outputs": [],
   "source": [
    "import os, sys\n",
    "from collections import defaultdict\n",
    "import pickle\n",
    "import datetime\n",
    "\n",
    "import numpy as np\n",
    "import pandas as pd\n",
    "import geopandas as gpd\n",
    "import matplotlib.pyplot as plt\n",
    "import pytz\n",
    "import json\n",
    "import seaborn as sns\n",
    "from shapely.geometry import Point, Polygon\n",
    "from sqlalchemy import create_engine\n",
    "\n",
    "import trackintel as ti\n",
    "from trackintel.analysis.tracking_quality import temporal_tracking_quality\n",
    "from trackintel.analysis.modal_split import calculate_modal_split\n",
    "from trackintel.visualization.modal_split import plot_modal_split"
   ]
  },
  {
   "cell_type": "code",
   "execution_count": 20,
   "id": "96fbde53",
   "metadata": {},
   "outputs": [],
   "source": [
    "out_path = \"../../temp\"\n",
    "os.makedirs(out_path, exist_ok=True)\n",
    "\n",
    "# path_to_geolife = \"~/Downloads/Geolife Trajectories 1.3/Data\"\n",
    "path_to_geolife = r\"E:\\Geolife Trajectories 1.3\\Data\"\n",
    "\n",
    "DBLOGIN_FILE_GC = \"../../dblogin_commit.json\"\n",
    "DBLOGIN_FILE_yumuv = \"../../dblogin_mielab.json\"\n",
    "\n",
    "with open(DBLOGIN_FILE_GC) as json_file:\n",
    "    LOGIN_DATA_GC = json.load(json_file)\n",
    "\n",
    "with open(DBLOGIN_FILE_yumuv) as json_file:\n",
    "    LOGIN_DATA_YUMUV = json.load(json_file)\n",
    "\n",
    "engine_gc = create_engine(\"postgresql://{user}:{password}@{host}:{port}/{database}\".format(**LOGIN_DATA_GC))\n",
    "engine_yumuv = create_engine(\"postgresql://{user}:{password}@{host}:{port}/{database}\".format(**LOGIN_DATA_YUMUV))\n",
    "engine_casestudy = create_engine(\n",
    "    \"postgresql://{user}:{password}@{host}:{port}/case_study_cache\".format(**LOGIN_DATA_YUMUV)\n",
    ")\n",
    "\n",
    "CRS_WGS84 = \"epsg:4326\""
   ]
  },
  {
   "cell_type": "code",
   "execution_count": 21,
   "id": "62cac79c",
   "metadata": {},
   "outputs": [],
   "source": [
    "studies = [\"gc1\", \"gc2\", \"yumuv_graph_rep\", \"geolife\"]\n",
    "\n",
    "# Full names for plotting\n",
    "study_mapping = {\n",
    "    \"gc1\": \"Green Class 1\",\n",
    "    \"gc2\": \"Green Class 2\",\n",
    "    \"yumuv_graph_rep\": \"Yumuv\",\n",
    "    \"geolife\": \"Geolife\",\n",
    "}"
   ]
  },
  {
   "cell_type": "code",
   "execution_count": 22,
   "id": "025f29c8",
   "metadata": {},
   "outputs": [],
   "source": [
    "# filter for debugging (~2 users per dataset)\n",
    "filter_sql = \"\"\"where user_id = ANY('{\"155\", \"51\", \"58\", \"1729\", \"1761\", \"2379ddac-f662-49a5-84be-6fae5c91a7e3\", \"e09fad5f-5b4b-4af5-a24d-0c0ef705199a\", \"c9aa08e2-1a5d-4d41-ae62-6110a9072b23\", \"15956\", \"15604\"}'::text[])\"\"\""
   ]
  },
  {
   "cell_type": "markdown",
   "id": "0ccc22b2",
   "metadata": {},
   "source": [
    "# Part 1: Dataset loading and preprocessing\n",
    "\n",
    "## Datasets\n",
    "We include the data from four tracking studies with two different tracking data types.\n",
    "\n",
    "### Green Class 1 & 2 \n",
    "The Green Class 1 & 2 studies were conducted in collaboration with the Swiss Federal Railway Systems (SBB) under the project name [SBB Green Class](https://www.researchgate.net/publication/335858551_Analysis_framework_and_results_of_the_SBB_Green_Class_pilot_studies)\n",
    "In both studies, participants were given full access to all public transport in Switzerland. In addition, the participants from the first Green Class study (Green Class 1) received an electric vehicle and the ones from the second study (Green Class 2) an e-bike. Study participants were tracked with a GNSS-based application (app) that provides partially preprocessed data as staypoints and triplegs.\n",
    "### Geolife\n",
    "The first study is the open-source [Geolife dataset](https://www.microsoft.com/en-us/download/details.aspx?id=52367&from=https%3A%2F%2Fresearch.microsoft.com%2Fen-us%2Fdownloads%2Fb16d359d-d164-469e-9fd4-daa38f2b2e13%2F) that covers the movement of employees of Microsoft Research Asia. The dataset is from about 2012 and was still recorded with dedicated GPS-only trackers. As the study took place in an urban area the GPS was unreliable and there are many gaps in the dataset. However, Geolife is still one of the few publicly available tracking datasets.\n",
    "\n",
    "### Yumuv\n",
    "The [yumuv](https://www.research-collection.ethz.ch/handle/20.500.11850/521380) study investigated the impact of a [Mobility-as-a-Service app](https://yumuv.ch/en) that integrates shared e-scooters, e-bikes and public transport. In the yumuv study, participants were divided into control and treatment group and were tracked for three months using an app that already provides staypoints and triplegs.\n"
   ]
  },
  {
   "cell_type": "markdown",
   "id": "666bb80f",
   "metadata": {},
   "source": [
    "# Import data\n",
    "One main advantage of trackintel is its ability to standardize the preprocessing of tracking data. For this, the different datasets have to be imported to geopandas dataframes that fulfill the requirements described [here](https://trackintel.readthedocs.io/en/latest/modules/model.html).\n",
    "\n",
    "The trackintel data model consists of these different classes:\n",
    "\n",
    "- positionfixes [pfs]: Raw GPS data.\n",
    "- staypoints [sp]: Locations where a user spent a minimal time.\n",
    "- triplegs [tpls]: Segments covered with one mode of transport.\n",
    "- locations [loc]: Clustered staypoints.\n",
    "- trips: Segments between consecutive activity staypoints (special staypoints that are not just waiting points).\n",
    "- tours: Sequences of trips which start and end at the same location (if the column ‘journey’ is True, this location is home).\n",
    "\n",
    "The Geolife dataset consists of only positionfixes while the other datasets are already processed to staypoints and triplegs by the tracking app. We will now import all datasets and combine them on the staypoints / triplegs level\n"
   ]
  },
  {
   "cell_type": "markdown",
   "id": "600af3a9",
   "metadata": {},
   "source": [
    "## Import Geolife\n",
    "Geolife is an important benchmark dataset. Trackintel therefore offers a dedicated function that reads in the Geolife dataset. The import function takes care of the required column format and names.\n"
   ]
  },
  {
   "cell_type": "code",
   "execution_count": 23,
   "id": "e7768284",
   "metadata": {},
   "outputs": [
    {
     "name": "stderr",
     "output_type": "stream",
     "text": [
      "100%|████████████████████████████████████████████████████████████████████████████████| 182/182 [03:04<00:00,  1.02s/it]\n"
     ]
    },
    {
     "data": {
      "text/html": [
       "<div>\n",
       "<style scoped>\n",
       "    .dataframe tbody tr th:only-of-type {\n",
       "        vertical-align: middle;\n",
       "    }\n",
       "\n",
       "    .dataframe tbody tr th {\n",
       "        vertical-align: top;\n",
       "    }\n",
       "\n",
       "    .dataframe thead th {\n",
       "        text-align: right;\n",
       "    }\n",
       "</style>\n",
       "<table border=\"1\" class=\"dataframe\">\n",
       "  <thead>\n",
       "    <tr style=\"text-align: right;\">\n",
       "      <th></th>\n",
       "      <th>elevation</th>\n",
       "      <th>tracked_at</th>\n",
       "      <th>geom</th>\n",
       "      <th>user_id</th>\n",
       "      <th>accuracy</th>\n",
       "    </tr>\n",
       "    <tr>\n",
       "      <th>id</th>\n",
       "      <th></th>\n",
       "      <th></th>\n",
       "      <th></th>\n",
       "      <th></th>\n",
       "      <th></th>\n",
       "    </tr>\n",
       "  </thead>\n",
       "  <tbody>\n",
       "    <tr>\n",
       "      <th>0</th>\n",
       "      <td>149.9616</td>\n",
       "      <td>2008-10-23 02:53:04+00:00</td>\n",
       "      <td>POINT (116.31842 39.98470)</td>\n",
       "      <td>0</td>\n",
       "      <td>NaN</td>\n",
       "    </tr>\n",
       "    <tr>\n",
       "      <th>1</th>\n",
       "      <td>149.9616</td>\n",
       "      <td>2008-10-23 02:53:10+00:00</td>\n",
       "      <td>POINT (116.31845 39.98468)</td>\n",
       "      <td>0</td>\n",
       "      <td>NaN</td>\n",
       "    </tr>\n",
       "    <tr>\n",
       "      <th>2</th>\n",
       "      <td>149.9616</td>\n",
       "      <td>2008-10-23 02:53:15+00:00</td>\n",
       "      <td>POINT (116.31842 39.98469)</td>\n",
       "      <td>0</td>\n",
       "      <td>NaN</td>\n",
       "    </tr>\n",
       "  </tbody>\n",
       "</table>\n",
       "</div>"
      ],
      "text/plain": [
       "    elevation                tracked_at                        geom  user_id  \\\n",
       "id                                                                             \n",
       "0    149.9616 2008-10-23 02:53:04+00:00  POINT (116.31842 39.98470)        0   \n",
       "1    149.9616 2008-10-23 02:53:10+00:00  POINT (116.31845 39.98468)        0   \n",
       "2    149.9616 2008-10-23 02:53:15+00:00  POINT (116.31842 39.98469)        0   \n",
       "\n",
       "    accuracy  \n",
       "id            \n",
       "0        NaN  \n",
       "1        NaN  \n",
       "2        NaN  "
      ]
     },
     "execution_count": 23,
     "metadata": {},
     "output_type": "execute_result"
    }
   ],
   "source": [
    "import trackintel\n",
    "from trackintel.io.dataset_reader import read_geolife\n",
    "\n",
    "pfs_geolife, _ = read_geolife(path_to_geolife, print_progress=True)\n",
    "pfs_geolife.head(3)"
   ]
  },
  {
   "cell_type": "markdown",
   "id": "39e6a516",
   "metadata": {},
   "source": [
    "### Geolife - Generate staypoints\n",
    "We generate staypoints from the positionfixes and define all staypoints as relevant activities if they are longer than 25 minutes."
   ]
  },
  {
   "cell_type": "code",
   "execution_count": 24,
   "id": "0dc2e354",
   "metadata": {},
   "outputs": [
    {
     "name": "stderr",
     "output_type": "stream",
     "text": [
      "C:\\Users\\henry\\.conda\\envs\\geodev\\lib\\site-packages\\trackintel\\preprocessing\\positionfixes.py:111: UserWarning: 146900 duplicates were dropped from your positionfixes. Dropping duplicates is recommended but can be prevented using the 'exclude_duplicate_pfs' flag.\n",
      "  warnings.warn(warn_str)\n",
      "100%|████████████████████████████████████████████████████████████████████████████████| 182/182 [02:39<00:00,  1.14it/s]\n"
     ]
    },
    {
     "data": {
      "text/html": [
       "<div>\n",
       "<style scoped>\n",
       "    .dataframe tbody tr th:only-of-type {\n",
       "        vertical-align: middle;\n",
       "    }\n",
       "\n",
       "    .dataframe tbody tr th {\n",
       "        vertical-align: top;\n",
       "    }\n",
       "\n",
       "    .dataframe thead th {\n",
       "        text-align: right;\n",
       "    }\n",
       "</style>\n",
       "<table border=\"1\" class=\"dataframe\">\n",
       "  <thead>\n",
       "    <tr style=\"text-align: right;\">\n",
       "      <th></th>\n",
       "      <th>user_id</th>\n",
       "      <th>started_at</th>\n",
       "      <th>finished_at</th>\n",
       "      <th>elevation</th>\n",
       "      <th>geom</th>\n",
       "      <th>study</th>\n",
       "      <th>is_activity</th>\n",
       "    </tr>\n",
       "    <tr>\n",
       "      <th>id</th>\n",
       "      <th></th>\n",
       "      <th></th>\n",
       "      <th></th>\n",
       "      <th></th>\n",
       "      <th></th>\n",
       "      <th></th>\n",
       "      <th></th>\n",
       "    </tr>\n",
       "  </thead>\n",
       "  <tbody>\n",
       "    <tr>\n",
       "      <th>0</th>\n",
       "      <td>0</td>\n",
       "      <td>2008-10-23 03:03:45+00:00</td>\n",
       "      <td>2008-10-23 04:08:07+00:00</td>\n",
       "      <td>61.7220</td>\n",
       "      <td>POINT (116.29917 39.98341)</td>\n",
       "      <td>Geolife</td>\n",
       "      <td>True</td>\n",
       "    </tr>\n",
       "    <tr>\n",
       "      <th>1</th>\n",
       "      <td>0</td>\n",
       "      <td>2008-10-23 04:32:52+00:00</td>\n",
       "      <td>2008-10-23 09:42:25+00:00</td>\n",
       "      <td>53.9496</td>\n",
       "      <td>POINT (116.32451 39.99967)</td>\n",
       "      <td>Geolife</td>\n",
       "      <td>True</td>\n",
       "    </tr>\n",
       "    <tr>\n",
       "      <th>2</th>\n",
       "      <td>0</td>\n",
       "      <td>2008-10-23 11:10:42+00:00</td>\n",
       "      <td>2008-10-24 02:10:09+00:00</td>\n",
       "      <td>26.8224</td>\n",
       "      <td>POINT (116.32105 40.00917)</td>\n",
       "      <td>Geolife</td>\n",
       "      <td>True</td>\n",
       "    </tr>\n",
       "  </tbody>\n",
       "</table>\n",
       "</div>"
      ],
      "text/plain": [
       "    user_id                started_at               finished_at  elevation  \\\n",
       "id                                                                           \n",
       "0         0 2008-10-23 03:03:45+00:00 2008-10-23 04:08:07+00:00    61.7220   \n",
       "1         0 2008-10-23 04:32:52+00:00 2008-10-23 09:42:25+00:00    53.9496   \n",
       "2         0 2008-10-23 11:10:42+00:00 2008-10-24 02:10:09+00:00    26.8224   \n",
       "\n",
       "                          geom    study  is_activity  \n",
       "id                                                    \n",
       "0   POINT (116.29917 39.98341)  Geolife         True  \n",
       "1   POINT (116.32451 39.99967)  Geolife         True  \n",
       "2   POINT (116.32105 40.00917)  Geolife         True  "
      ]
     },
     "execution_count": 24,
     "metadata": {},
     "output_type": "execute_result"
    }
   ],
   "source": [
    "# extract staypoints\n",
    "pfs_geolife, sp_geolife = pfs_geolife.as_positionfixes.generate_staypoints(\n",
    "    gap_threshold=24 * 60,\n",
    "    include_last=True,\n",
    "    print_progress=True,\n",
    "    dist_threshold=200,\n",
    "    time_threshold=30,\n",
    "    n_jobs=4,\n",
    ")\n",
    "sp_geolife[\"study\"] = \"Geolife\"\n",
    "\n",
    "# add activity flag to staypoints\n",
    "sp_geolife = sp_geolife.as_staypoints.create_activity_flag(method=\"time_threshold\", time_threshold=25)\n",
    "sp_geolife.head(3)"
   ]
  },
  {
   "cell_type": "markdown",
   "id": "cce91d35",
   "metadata": {},
   "source": [
    "### Geolife - Generate triplegs"
   ]
  },
  {
   "cell_type": "code",
   "execution_count": 25,
   "id": "d28a7f2d",
   "metadata": {},
   "outputs": [
    {
     "name": "stderr",
     "output_type": "stream",
     "text": [
      "C:\\Users\\henry\\.conda\\envs\\geodev\\lib\\site-packages\\trackintel\\preprocessing\\positionfixes.py:504: UserWarning: The positionfixes with ids [ 2894106  2894107  3826247  3826248  6900863  6900864  6909024  6909025\n",
      "  7754881  7754882 11128882 11128883 11608868 11608869 14216369 14216370\n",
      " 14411384 14411385 15674472 15674473 16477191 16477192 17290728 17290729] lead to invalid tripleg geometries. The resulting triplegs were omitted and the tripleg id of the positionfixes was set to nan\n",
      "  warnings.warn(warn_string)\n"
     ]
    },
    {
     "name": "stdout",
     "output_type": "stream",
     "text": [
      "CPU times: total: 8min 19s\n",
      "Wall time: 8min 19s\n"
     ]
    },
    {
     "data": {
      "text/html": [
       "<div>\n",
       "<style scoped>\n",
       "    .dataframe tbody tr th:only-of-type {\n",
       "        vertical-align: middle;\n",
       "    }\n",
       "\n",
       "    .dataframe tbody tr th {\n",
       "        vertical-align: top;\n",
       "    }\n",
       "\n",
       "    .dataframe thead th {\n",
       "        text-align: right;\n",
       "    }\n",
       "</style>\n",
       "<table border=\"1\" class=\"dataframe\">\n",
       "  <thead>\n",
       "    <tr style=\"text-align: right;\">\n",
       "      <th></th>\n",
       "      <th>user_id</th>\n",
       "      <th>started_at</th>\n",
       "      <th>finished_at</th>\n",
       "      <th>geom</th>\n",
       "      <th>study</th>\n",
       "    </tr>\n",
       "    <tr>\n",
       "      <th>id</th>\n",
       "      <th></th>\n",
       "      <th></th>\n",
       "      <th></th>\n",
       "      <th></th>\n",
       "      <th></th>\n",
       "    </tr>\n",
       "  </thead>\n",
       "  <tbody>\n",
       "    <tr>\n",
       "      <th>0</th>\n",
       "      <td>0</td>\n",
       "      <td>2008-10-23 02:53:04+00:00</td>\n",
       "      <td>2008-10-23 03:03:40+00:00</td>\n",
       "      <td>LINESTRING (116.31842 39.98470, 116.31845 39.9...</td>\n",
       "      <td>Geolife</td>\n",
       "    </tr>\n",
       "    <tr>\n",
       "      <th>1</th>\n",
       "      <td>0</td>\n",
       "      <td>2008-10-23 04:08:07+00:00</td>\n",
       "      <td>2008-10-23 04:32:47+00:00</td>\n",
       "      <td>LINESTRING (116.28680 39.99578, 116.28545 39.9...</td>\n",
       "      <td>Geolife</td>\n",
       "    </tr>\n",
       "    <tr>\n",
       "      <th>2</th>\n",
       "      <td>0</td>\n",
       "      <td>2008-10-23 09:42:25+00:00</td>\n",
       "      <td>2008-10-23 11:10:37+00:00</td>\n",
       "      <td>LINESTRING (116.32016 40.00478, 116.32039 40.0...</td>\n",
       "      <td>Geolife</td>\n",
       "    </tr>\n",
       "  </tbody>\n",
       "</table>\n",
       "</div>"
      ],
      "text/plain": [
       "    user_id                started_at               finished_at  \\\n",
       "id                                                                \n",
       "0         0 2008-10-23 02:53:04+00:00 2008-10-23 03:03:40+00:00   \n",
       "1         0 2008-10-23 04:08:07+00:00 2008-10-23 04:32:47+00:00   \n",
       "2         0 2008-10-23 09:42:25+00:00 2008-10-23 11:10:37+00:00   \n",
       "\n",
       "                                                 geom    study  \n",
       "id                                                              \n",
       "0   LINESTRING (116.31842 39.98470, 116.31845 39.9...  Geolife  \n",
       "1   LINESTRING (116.28680 39.99578, 116.28545 39.9...  Geolife  \n",
       "2   LINESTRING (116.32016 40.00478, 116.32039 40.0...  Geolife  "
      ]
     },
     "execution_count": 25,
     "metadata": {},
     "output_type": "execute_result"
    }
   ],
   "source": [
    "%%time\n",
    "pfs_geolife, tpls_geolife = pfs_geolife.as_positionfixes.generate_triplegs(\n",
    "    sp_geolife, method=\"between_staypoints\", gap_threshold=25\n",
    ")\n",
    "tpls_geolife[\"study\"] = \"Geolife\"\n",
    "tpls_geolife.head(3)"
   ]
  },
  {
   "cell_type": "markdown",
   "id": "23918188",
   "metadata": {},
   "source": [
    "## Import Green Class 1 & 2\n",
    "The green class datasets are stored in a postgis database and were already preprocessed to staypoints (static behavior) and triplegs (movement). To use them with trackintel, the data has to be adjusted to the data model. This means to create a geodataframe with the correct column names and timezone aware timestamps.\n"
   ]
  },
  {
   "cell_type": "markdown",
   "id": "d480d07e",
   "metadata": {},
   "source": [
    "### Green class - Staypoints"
   ]
  },
  {
   "cell_type": "code",
   "execution_count": 43,
   "id": "642e8b23",
   "metadata": {},
   "outputs": [
    {
     "data": {
      "text/html": [
       "<div>\n",
       "<style scoped>\n",
       "    .dataframe tbody tr th:only-of-type {\n",
       "        vertical-align: middle;\n",
       "    }\n",
       "\n",
       "    .dataframe tbody tr th {\n",
       "        vertical-align: top;\n",
       "    }\n",
       "\n",
       "    .dataframe thead th {\n",
       "        text-align: right;\n",
       "    }\n",
       "</style>\n",
       "<table border=\"1\" class=\"dataframe\">\n",
       "  <thead>\n",
       "    <tr style=\"text-align: right;\">\n",
       "      <th></th>\n",
       "      <th>user_id</th>\n",
       "      <th>started_at</th>\n",
       "      <th>finished_at</th>\n",
       "      <th>geom</th>\n",
       "      <th>purpose</th>\n",
       "      <th>is_activity</th>\n",
       "      <th>study</th>\n",
       "    </tr>\n",
       "    <tr>\n",
       "      <th>id</th>\n",
       "      <th></th>\n",
       "      <th></th>\n",
       "      <th></th>\n",
       "      <th></th>\n",
       "      <th></th>\n",
       "      <th></th>\n",
       "      <th></th>\n",
       "    </tr>\n",
       "  </thead>\n",
       "  <tbody>\n",
       "    <tr>\n",
       "      <th>3644805</th>\n",
       "      <td>2379ddac-f662-49a5-84be-6fae5c91a7e3</td>\n",
       "      <td>2017-09-17 12:57:18.869999+00:00</td>\n",
       "      <td>2017-09-17 15:55:03.536000+00:00</td>\n",
       "      <td>POINT (8.21500 47.47649)</td>\n",
       "      <td>leisure</td>\n",
       "      <td>True</td>\n",
       "      <td>Green Class 2</td>\n",
       "    </tr>\n",
       "    <tr>\n",
       "      <th>3680485</th>\n",
       "      <td>2379ddac-f662-49a5-84be-6fae5c91a7e3</td>\n",
       "      <td>2017-09-28 14:41:47.967000+00:00</td>\n",
       "      <td>2017-09-28 16:11:56.680000+00:00</td>\n",
       "      <td>POINT (8.55968 47.29059)</td>\n",
       "      <td>errand</td>\n",
       "      <td>True</td>\n",
       "      <td>Green Class 2</td>\n",
       "    </tr>\n",
       "    <tr>\n",
       "      <th>3680768</th>\n",
       "      <td>2379ddac-f662-49a5-84be-6fae5c91a7e3</td>\n",
       "      <td>2017-09-28 16:22:26.680000+00:00</td>\n",
       "      <td>2017-09-28 16:32:23.947999+00:00</td>\n",
       "      <td>POINT (8.56582 47.28667)</td>\n",
       "      <td>unknown</td>\n",
       "      <td>False</td>\n",
       "      <td>Green Class 2</td>\n",
       "    </tr>\n",
       "  </tbody>\n",
       "</table>\n",
       "</div>"
      ],
      "text/plain": [
       "                                      user_id  \\\n",
       "id                                              \n",
       "3644805  2379ddac-f662-49a5-84be-6fae5c91a7e3   \n",
       "3680485  2379ddac-f662-49a5-84be-6fae5c91a7e3   \n",
       "3680768  2379ddac-f662-49a5-84be-6fae5c91a7e3   \n",
       "\n",
       "                              started_at                      finished_at  \\\n",
       "id                                                                          \n",
       "3644805 2017-09-17 12:57:18.869999+00:00 2017-09-17 15:55:03.536000+00:00   \n",
       "3680485 2017-09-28 14:41:47.967000+00:00 2017-09-28 16:11:56.680000+00:00   \n",
       "3680768 2017-09-28 16:22:26.680000+00:00 2017-09-28 16:32:23.947999+00:00   \n",
       "\n",
       "                             geom  purpose  is_activity          study  \n",
       "id                                                                      \n",
       "3644805  POINT (8.21500 47.47649)  leisure         True  Green Class 2  \n",
       "3680485  POINT (8.55968 47.29059)   errand         True  Green Class 2  \n",
       "3680768  POINT (8.56582 47.28667)  unknown        False  Green Class 2  "
      ]
     },
     "execution_count": 43,
     "metadata": {},
     "output_type": "execute_result"
    }
   ],
   "source": [
    "sp_gc = []\n",
    "for study in [\"gc1\", \"gc2\"]:\n",
    "    # download data\n",
    "    sp_temp = gpd.GeoDataFrame.from_postgis(\n",
    "        sql=f\"\"\"SELECT id, user_id, started_at, finished_at, geometry_raw, purpose_validated FROM {study}.staypoints\n",
    "        where started_at <= finished_at\"\"\",\n",
    "        con=engine_gc,\n",
    "        geom_col=\"geometry_raw\",\n",
    "        index_col=\"id\",\n",
    "    )\n",
    "\n",
    "    # transform to trackintel dataframe\n",
    "    sp_temp = ti.io.read_staypoints_gpd(\n",
    "        sp_temp,\n",
    "        geom_col=\"geom\",\n",
    "        tz=\"UTC\",\n",
    "        crs=CRS_WGS84,\n",
    "        mapper={\"geometry_raw\": \"geom\", \"purpose_validated\": \"purpose\"},\n",
    "    )\n",
    "\n",
    "    # green class specific definition of activities\n",
    "    sp_temp = sp_temp.as_staypoints.create_activity_flag(method=\"time_threshold\", time_threshold=25)\n",
    "    meaningful_purpose = ~sp_temp[\"purpose\"].isin([\"wait\", \"unknown\"])\n",
    "    sp_temp.loc[meaningful_purpose, \"is_activity\"] = True\n",
    "\n",
    "    # keep study as attribute\n",
    "    sp_temp[\"study\"] = study_mapping[study]\n",
    "\n",
    "    sp_gc.append(sp_temp)\n",
    "    \n",
    "sp_temp.head(3)"
   ]
  },
  {
   "cell_type": "markdown",
   "id": "881e9271",
   "metadata": {},
   "source": [
    "### Green class - Triplegs"
   ]
  },
  {
   "cell_type": "code",
   "execution_count": 170,
   "id": "9d05866c",
   "metadata": {},
   "outputs": [
    {
     "data": {
      "text/html": [
       "<div>\n",
       "<style scoped>\n",
       "    .dataframe tbody tr th:only-of-type {\n",
       "        vertical-align: middle;\n",
       "    }\n",
       "\n",
       "    .dataframe tbody tr th {\n",
       "        vertical-align: top;\n",
       "    }\n",
       "\n",
       "    .dataframe thead th {\n",
       "        text-align: right;\n",
       "    }\n",
       "</style>\n",
       "<table border=\"1\" class=\"dataframe\">\n",
       "  <thead>\n",
       "    <tr style=\"text-align: right;\">\n",
       "      <th></th>\n",
       "      <th>user_id</th>\n",
       "      <th>started_at</th>\n",
       "      <th>finished_at</th>\n",
       "      <th>mode</th>\n",
       "      <th>mode_detailed</th>\n",
       "      <th>geom</th>\n",
       "      <th>study</th>\n",
       "    </tr>\n",
       "    <tr>\n",
       "      <th>id</th>\n",
       "      <th></th>\n",
       "      <th></th>\n",
       "      <th></th>\n",
       "      <th></th>\n",
       "      <th></th>\n",
       "      <th></th>\n",
       "      <th></th>\n",
       "    </tr>\n",
       "  </thead>\n",
       "  <tbody>\n",
       "    <tr>\n",
       "      <th>3870150</th>\n",
       "      <td>7339c9ea-796f-490a-94bc-1fc3880cee79</td>\n",
       "      <td>2017-11-28 15:21:48.119999+00:00</td>\n",
       "      <td>2017-11-28 15:26:42.779999+00:00</td>\n",
       "      <td>Mode::Walk</td>\n",
       "      <td>Mode::Walk</td>\n",
       "      <td>LINESTRING (7.90960 47.34585, 7.90960 47.34585...</td>\n",
       "      <td>Green Class 2</td>\n",
       "    </tr>\n",
       "    <tr>\n",
       "      <th>3861702</th>\n",
       "      <td>7339c9ea-796f-490a-94bc-1fc3880cee79</td>\n",
       "      <td>2017-11-25 16:04:25.017999+00:00</td>\n",
       "      <td>2017-11-25 16:05:40.017999+00:00</td>\n",
       "      <td>Mode::Car</td>\n",
       "      <td>Mode::Car</td>\n",
       "      <td>LINESTRING (7.87884 47.30623, 7.87769 47.30591...</td>\n",
       "      <td>Green Class 2</td>\n",
       "    </tr>\n",
       "    <tr>\n",
       "      <th>3863208</th>\n",
       "      <td>7339c9ea-796f-490a-94bc-1fc3880cee79</td>\n",
       "      <td>2017-11-26 10:34:53.278111+00:00</td>\n",
       "      <td>2017-11-26 10:40:11.085000+00:00</td>\n",
       "      <td>Mode::Walk</td>\n",
       "      <td>Mode::Walk</td>\n",
       "      <td>LINESTRING (8.08622 47.39315, 8.08631 47.39313...</td>\n",
       "      <td>Green Class 2</td>\n",
       "    </tr>\n",
       "  </tbody>\n",
       "</table>\n",
       "</div>"
      ],
      "text/plain": [
       "                                      user_id  \\\n",
       "id                                              \n",
       "3870150  7339c9ea-796f-490a-94bc-1fc3880cee79   \n",
       "3861702  7339c9ea-796f-490a-94bc-1fc3880cee79   \n",
       "3863208  7339c9ea-796f-490a-94bc-1fc3880cee79   \n",
       "\n",
       "                              started_at                      finished_at  \\\n",
       "id                                                                          \n",
       "3870150 2017-11-28 15:21:48.119999+00:00 2017-11-28 15:26:42.779999+00:00   \n",
       "3861702 2017-11-25 16:04:25.017999+00:00 2017-11-25 16:05:40.017999+00:00   \n",
       "3863208 2017-11-26 10:34:53.278111+00:00 2017-11-26 10:40:11.085000+00:00   \n",
       "\n",
       "               mode mode_detailed  \\\n",
       "id                                  \n",
       "3870150  Mode::Walk    Mode::Walk   \n",
       "3861702   Mode::Car     Mode::Car   \n",
       "3863208  Mode::Walk    Mode::Walk   \n",
       "\n",
       "                                                      geom          study  \n",
       "id                                                                         \n",
       "3870150  LINESTRING (7.90960 47.34585, 7.90960 47.34585...  Green Class 2  \n",
       "3861702  LINESTRING (7.87884 47.30623, 7.87769 47.30591...  Green Class 2  \n",
       "3863208  LINESTRING (8.08622 47.39315, 8.08631 47.39313...  Green Class 2  "
      ]
     },
     "execution_count": 170,
     "metadata": {},
     "output_type": "execute_result"
    }
   ],
   "source": [
    "tpls_gc = []\n",
    "for study in [\"gc1\", \"gc2\"]:\n",
    "    # downlaod data using geopandas\n",
    "    tpls_temp = gpd.GeoDataFrame.from_postgis(\n",
    "        sql=f\"\"\"SELECT id, user_id, started_at, finished_at, mode_validated as mode, mode_validated as mode_detailed, \n",
    "        geometry FROM {study}.triplegs where ST_isValid(geometry)\"\"\",\n",
    "        con=engine_gc,\n",
    "        crs=CRS_WGS84,\n",
    "        geom_col=\"geometry\",\n",
    "        index_col=\"id\",\n",
    "    )\n",
    "    # transform to trackintel dataframe\n",
    "    tpls_temp = ti.io.read_triplegs_gpd(\n",
    "        tpls_temp,\n",
    "        geom_col=\"geom\",\n",
    "        crs=CRS_WGS84,\n",
    "        tz=\"UTC\",\n",
    "        mapper={\"geometry\": \"geom\"},\n",
    "    )\n",
    "    # keep study as attribute\n",
    "    tpls_temp[\"study\"] = study_mapping[study]\n",
    "\n",
    "    tpls_gc.append(tpls_temp)\n",
    "\n",
    "tpls_temp.head(3)"
   ]
  },
  {
   "cell_type": "markdown",
   "id": "94283f3b",
   "metadata": {},
   "source": [
    "## Import yumuv\n",
    "The yumuv data is stored in a postgis database and already available as staypoints and triplegs. To use them with trackintel, the data has to be adjusted to the data model. This means to create a geodataframe with the correct column names and timezone aware timestamps. We furthermore conduct two additional preprocessing steps: \n",
    "- We filter the tracking duration to the duration of the study which took place for most users from the 13th of July 2020 to the 15th of November 2020.\n",
    "- We offset the user ids by a constant to be able to combine the data later with the other datasets without overlaps."
   ]
  },
  {
   "cell_type": "markdown",
   "id": "430b8d0c",
   "metadata": {},
   "source": [
    "### yumuv - Staypoints"
   ]
  },
  {
   "cell_type": "code",
   "execution_count": 28,
   "id": "686c26ec",
   "metadata": {},
   "outputs": [],
   "source": [
    "min_date = datetime.datetime(year=2020, month=7, day=13, tzinfo=pytz.utc)\n",
    "max_date = datetime.datetime(year=2020, month=11, day=15, tzinfo=pytz.utc)"
   ]
  },
  {
   "cell_type": "code",
   "execution_count": 29,
   "id": "a570a249",
   "metadata": {},
   "outputs": [],
   "source": [
    "sp_yumuv = ti.io.read_staypoints_postgis(\n",
    "    \"select id, user_fk, started_at, finished_at, geometry from yumuv.staypoint\",\n",
    "    con=engine_yumuv,\n",
    "    geom_col=\"geometry\",\n",
    "    crs=CRS_WGS84,\n",
    "    index_col=\"id\",\n",
    "    tz=\"UTC\",\n",
    "    mapper={\"user_fk\": \"user_id\"},\n",
    ")\n",
    "sp_yumuv = sp_yumuv.rename({\"geometry\": \"geom\"}, axis=1).set_geometry(\"geom\") # trackintel issue #409\n",
    "\n",
    "sp_yumuv[\"study\"] = \"Yumuv\"\n",
    "\n",
    "# yumuv specific definition of activities\n",
    "sp_yumuv = sp_yumuv.as_staypoints.create_activity_flag(time_threshold=25)\n",
    "\n",
    "# offset user id\n",
    "sp_yumuv[\"user_id\"] = sp_yumuv[\"user_id\"] + 10000\n",
    "\n",
    "# filter study duration\n",
    "sp_date_flag = (sp_yumuv[\"started_at\"] >= min_date) & (sp_yumuv[\"finished_at\"] <= max_date)\n",
    "sp_yumuv = sp_yumuv[sp_date_flag]"
   ]
  },
  {
   "cell_type": "markdown",
   "id": "b7af4e87",
   "metadata": {},
   "source": [
    "### yumuv - Triplegs"
   ]
  },
  {
   "cell_type": "code",
   "execution_count": 30,
   "id": "d8897e3d",
   "metadata": {},
   "outputs": [],
   "source": [
    "tpls_yumuv = ti.io.postgis.read_triplegs_postgis(\n",
    "    \"\"\"select distinct on (id) id, user_fk, started_at, finished_at, track_mode_corrected, \n",
    "    geometry FROM yumuv.tripleg where ST_isvalid(geometry)\"\"\",\n",
    "    con=engine_yumuv,\n",
    "    geom_col=\"geometry\",\n",
    "    crs=CRS_WGS84,\n",
    "    index_col=\"id\",\n",
    "    tz=\"UTC\",\n",
    "    mapper={\"user_fk\": \"user_id\"},\n",
    ")\n",
    "tpls_yumuv = tpls_yumuv.rename({\"geometry\": \"geom\", \"track_mode_corrected\": \"mode\"}, axis=1).set_geometry(\"geom\")\n",
    "tpls_yumuv[\"study\"] = \"Yumuv\"\n",
    "\n",
    "# offset user id\n",
    "tpls_yumuv[\"user_id\"] = tpls_yumuv[\"user_id\"] + 10000\n",
    "\n",
    "# filter study duration\n",
    "tpls_date_flag = (tpls_yumuv[\"started_at\"] >= min_date) & (tpls_yumuv[\"finished_at\"] <= max_date)\n",
    "tpls_yumuv = tpls_yumuv[tpls_date_flag]"
   ]
  },
  {
   "cell_type": "markdown",
   "id": "ef65aae3",
   "metadata": {},
   "source": [
    "\n"
   ]
  },
  {
   "cell_type": "markdown",
   "id": "d05f8d9a",
   "metadata": {},
   "source": [
    "## Combine studies\n",
    "All datasets are now loaded into the trackintel framework and all tracking data is represented as `staypoints` and `triplegs`. We can now represent all studies in a joint `staypoints` and a joint `triplegs` dataframe and process all studies jointly. To allow the joint analysis we have to perform the following steps:\n",
    "- All staypoints and triplegs are combined in a single dataframe respectively.\n",
    "- All user ids are represented as strings to have an id column with a single data type.\n",
    "- We offset the ids of staypoints and triplegs so that they are unique across studies.\n",
    "\n",
    "Furthermore we simplify the geometry of triplegs to reduce computation time."
   ]
  },
  {
   "cell_type": "markdown",
   "id": "f4197be9",
   "metadata": {},
   "source": [
    "### All studies - combine staypoints"
   ]
  },
  {
   "cell_type": "code",
   "execution_count": 31,
   "id": "6ffafb09",
   "metadata": {},
   "outputs": [],
   "source": [
    "staypoints = pd.concat([sp_geolife] + sp_gc + [sp_yumuv])\n",
    "staypoints[\"user_id\"] = staypoints[\"user_id\"].astype(str)"
   ]
  },
  {
   "cell_type": "markdown",
   "id": "82f1db20",
   "metadata": {},
   "source": [
    "### All studies - combine triplegs"
   ]
  },
  {
   "cell_type": "code",
   "execution_count": 32,
   "id": "81e85828",
   "metadata": {},
   "outputs": [],
   "source": [
    "triplegs = pd.concat([tpls_geolife] + tpls_gc + [tpls_yumuv])\n",
    "triplegs[\"user_id\"] = triplegs[\"user_id\"].astype(str)"
   ]
  },
  {
   "cell_type": "code",
   "execution_count": 33,
   "id": "f90a395a",
   "metadata": {},
   "outputs": [],
   "source": [
    "triplegs[\"geom\"] = triplegs.simplify(1e-5, preserve_topology=False)"
   ]
  },
  {
   "cell_type": "markdown",
   "id": "9835ffd6",
   "metadata": {},
   "source": [
    "offset ids to ensure unique IDs"
   ]
  },
  {
   "cell_type": "code",
   "execution_count": 34,
   "id": "404692da",
   "metadata": {},
   "outputs": [],
   "source": [
    "for ix, study in enumerate(study_mapping.values()):\n",
    "    sp_study_flag = staypoints[\"study\"] == study\n",
    "    tpls_study_flag = triplegs[\"study\"] == study\n",
    "\n",
    "    staypoints.loc[sp_study_flag].index = staypoints.loc[sp_study_flag].index + ix * 10e7\n",
    "    triplegs.loc[tpls_study_flag].index = triplegs.loc[tpls_study_flag].index + ix * 10e7"
   ]
  },
  {
   "cell_type": "code",
   "execution_count": 46,
   "id": "d4087036",
   "metadata": {
    "scrolled": true
   },
   "outputs": [
    {
     "data": {
      "text/html": [
       "<div>\n",
       "<style scoped>\n",
       "    .dataframe tbody tr th:only-of-type {\n",
       "        vertical-align: middle;\n",
       "    }\n",
       "\n",
       "    .dataframe tbody tr th {\n",
       "        vertical-align: top;\n",
       "    }\n",
       "\n",
       "    .dataframe thead th {\n",
       "        text-align: right;\n",
       "    }\n",
       "</style>\n",
       "<table border=\"1\" class=\"dataframe\">\n",
       "  <thead>\n",
       "    <tr style=\"text-align: right;\">\n",
       "      <th></th>\n",
       "      <th>started_at</th>\n",
       "      <th>finished_at</th>\n",
       "      <th>study</th>\n",
       "      <th>is_activity</th>\n",
       "      <th>purpose</th>\n",
       "    </tr>\n",
       "    <tr>\n",
       "      <th>id</th>\n",
       "      <th></th>\n",
       "      <th></th>\n",
       "      <th></th>\n",
       "      <th></th>\n",
       "      <th></th>\n",
       "    </tr>\n",
       "  </thead>\n",
       "  <tbody>\n",
       "    <tr>\n",
       "      <th>0</th>\n",
       "      <td>2008-10-23 03:03:45+00:00</td>\n",
       "      <td>2008-10-23 04:08:07+00:00</td>\n",
       "      <td>Geolife</td>\n",
       "      <td>True</td>\n",
       "      <td>NaN</td>\n",
       "    </tr>\n",
       "    <tr>\n",
       "      <th>3202998</th>\n",
       "      <td>2017-04-01 10:52:26.184999+00:00</td>\n",
       "      <td>2017-04-01 11:35:56.184000+00:00</td>\n",
       "      <td>Green Class 1</td>\n",
       "      <td>True</td>\n",
       "      <td>errand</td>\n",
       "    </tr>\n",
       "    <tr>\n",
       "      <th>3644805</th>\n",
       "      <td>2017-09-17 12:57:18.869999+00:00</td>\n",
       "      <td>2017-09-17 15:55:03.536000+00:00</td>\n",
       "      <td>Green Class 2</td>\n",
       "      <td>True</td>\n",
       "      <td>leisure</td>\n",
       "    </tr>\n",
       "    <tr>\n",
       "      <th>7462707</th>\n",
       "      <td>2020-10-21 13:15:23+00:00</td>\n",
       "      <td>2020-10-21 15:21:29+00:00</td>\n",
       "      <td>Yumuv</td>\n",
       "      <td>True</td>\n",
       "      <td>NaN</td>\n",
       "    </tr>\n",
       "  </tbody>\n",
       "</table>\n",
       "</div>"
      ],
      "text/plain": [
       "                              started_at                      finished_at  \\\n",
       "id                                                                          \n",
       "0              2008-10-23 03:03:45+00:00        2008-10-23 04:08:07+00:00   \n",
       "3202998 2017-04-01 10:52:26.184999+00:00 2017-04-01 11:35:56.184000+00:00   \n",
       "3644805 2017-09-17 12:57:18.869999+00:00 2017-09-17 15:55:03.536000+00:00   \n",
       "7462707        2020-10-21 13:15:23+00:00        2020-10-21 15:21:29+00:00   \n",
       "\n",
       "                 study  is_activity  purpose  \n",
       "id                                            \n",
       "0              Geolife         True      NaN  \n",
       "3202998  Green Class 1         True   errand  \n",
       "3644805  Green Class 2         True  leisure  \n",
       "7462707          Yumuv         True      NaN  "
      ]
     },
     "execution_count": 46,
     "metadata": {},
     "output_type": "execute_result"
    }
   ],
   "source": [
    "# show a staypoint for each study (without user_id and geometry due to privacy)\n",
    "staypoints[['started_at', 'finished_at', 'study', 'is_activity', 'purpose']].groupby('study').head(1)"
   ]
  },
  {
   "cell_type": "markdown",
   "id": "a943755f",
   "metadata": {},
   "source": [
    "Finally we create a table that matches user ids to studies"
   ]
  },
  {
   "cell_type": "code",
   "execution_count": 47,
   "id": "d607b328",
   "metadata": {},
   "outputs": [],
   "source": [
    "user_study_matching = staypoints[[\"user_id\", \"study\"]].drop_duplicates()\n",
    "user_study_matching = user_study_matching.set_index(\"user_id\")\n"
   ]
  },
  {
   "cell_type": "markdown",
   "id": "b10764fd",
   "metadata": {},
   "source": [
    "# Joint preprocessing\n",
    "The representation of human mobility as `staypoints` and `triplegs` is often not enough for a detailed analysis. We now use trackintel to process `staypoints` and `triplegs` futher into `trips`, `tours` and `locations`. \n",
    "![Trackintel hierarchical data model](https://raw.githubusercontent.com/mie-lab/trackintel/master/docs/assets/hierarchy.png)\n",
    "## create trips"
   ]
  },
  {
   "cell_type": "code",
   "execution_count": 48,
   "id": "0ade21db",
   "metadata": {},
   "outputs": [
    {
     "name": "stderr",
     "output_type": "stream",
     "text": [
      "C:\\Users\\henry\\.conda\\envs\\geodev\\lib\\site-packages\\pandas\\core\\dtypes\\cast.py:122: ShapelyDeprecationWarning: The array interface is deprecated and will no longer work in Shapely 2.0. Convert the '.coords' to a numpy array instead.\n",
      "  arr = construct_1d_object_array_from_listlike(values)\n"
     ]
    }
   ],
   "source": [
    "staypoints, triplegs, trips = ti.preprocessing.triplegs.generate_trips(\n",
    "    staypoints=staypoints, triplegs=triplegs, gap_threshold=15, add_geometry=True\n",
    ")"
   ]
  },
  {
   "cell_type": "code",
   "execution_count": 49,
   "id": "6f12d432",
   "metadata": {},
   "outputs": [],
   "source": [
    "trips = trips.join(user_study_matching, on=\"user_id\")"
   ]
  },
  {
   "cell_type": "markdown",
   "id": "5ede43be",
   "metadata": {},
   "source": [
    "### All studies - create locations"
   ]
  },
  {
   "cell_type": "code",
   "execution_count": 50,
   "id": "0966aa40",
   "metadata": {},
   "outputs": [
    {
     "name": "stderr",
     "output_type": "stream",
     "text": [
      "100%|██████████████████████████████████████████████████████████████████████████████| 1172/1172 [00:21<00:00, 54.06it/s]\n",
      "C:\\Users\\henry\\.conda\\envs\\geodev\\lib\\site-packages\\pandas\\core\\apply.py:1137: ShapelyDeprecationWarning: The array interface is deprecated and will no longer work in Shapely 2.0. Convert the '.coords' to a numpy array instead.\n",
      "  mapped = lib.map_infer(\n"
     ]
    }
   ],
   "source": [
    "staypoints, locations = ti.preprocessing.generate_locations(\n",
    "    staypoints,\n",
    "    epsilon=30,\n",
    "    num_samples=1,\n",
    "    distance_metric=\"haversine\",\n",
    "    print_progress=True,\n",
    "    n_jobs=4,\n",
    ")"
   ]
  },
  {
   "cell_type": "code",
   "execution_count": 51,
   "id": "cba869c4",
   "metadata": {},
   "outputs": [],
   "source": [
    "locations = locations.join(user_study_matching, on=\"user_id\")"
   ]
  },
  {
   "cell_type": "markdown",
   "id": "64d030b0",
   "metadata": {},
   "source": [
    "### All studies - create tours"
   ]
  },
  {
   "cell_type": "code",
   "execution_count": 52,
   "id": "c522951b",
   "metadata": {},
   "outputs": [
    {
     "name": "stderr",
     "output_type": "stream",
     "text": [
      "User trip generation: 100%|████████████████████████████████████████████████████████| 1184/1184 [06:55<00:00,  2.85it/s]\n"
     ]
    }
   ],
   "source": [
    "trips, tours = ti.preprocessing.generate_tours(trips, staypoints=staypoints, print_progress=True)\n",
    "tours[\"started_at\"] = pd.to_datetime(tours[\"started_at\"])\n",
    "tours[\"finished_at\"] = pd.to_datetime(tours[\"finished_at\"])"
   ]
  },
  {
   "cell_type": "code",
   "execution_count": 53,
   "id": "efb4581f",
   "metadata": {},
   "outputs": [],
   "source": [
    "tours = tours.join(user_study_matching, on=\"user_id\")"
   ]
  },
  {
   "cell_type": "markdown",
   "id": "26ed38f1",
   "metadata": {},
   "source": [
    "## Write intermediate outputs to database"
   ]
  },
  {
   "cell_type": "code",
   "execution_count": 54,
   "id": "98f68b56",
   "metadata": {},
   "outputs": [
    {
     "name": "stdout",
     "output_type": "stream",
     "text": [
      "check that index is unique:\n"
     ]
    }
   ],
   "source": [
    "print(\"check that index is unique:\")\n",
    "assert staypoints.index.is_unique\n",
    "assert triplegs.index.is_unique\n",
    "assert trips.index.is_unique\n",
    "assert tours.index.is_unique\n",
    "assert locations.index.is_unique"
   ]
  },
  {
   "cell_type": "code",
   "execution_count": 55,
   "id": "7f4c79c3",
   "metadata": {},
   "outputs": [],
   "source": [
    "staypoints.as_staypoints.to_postgis(\"staypoints\", con=engine_casestudy, if_exists=\"replace\")"
   ]
  },
  {
   "cell_type": "code",
   "execution_count": 56,
   "id": "cd64201a",
   "metadata": {},
   "outputs": [],
   "source": [
    "triplegs.as_triplegs.to_postgis(\"triplegs\", con=engine_casestudy, if_exists=\"replace\", chunksize=10000)"
   ]
  },
  {
   "cell_type": "code",
   "execution_count": 57,
   "id": "ac46832b",
   "metadata": {},
   "outputs": [],
   "source": [
    "locations.as_locations.to_postgis(\"locations\", con=engine_casestudy, if_exists=\"replace\")"
   ]
  },
  {
   "cell_type": "code",
   "execution_count": 58,
   "id": "2e7a4053",
   "metadata": {},
   "outputs": [],
   "source": [
    "trips.as_trips.to_postgis(\"trips\", con=engine_casestudy, if_exists=\"replace\")"
   ]
  },
  {
   "cell_type": "code",
   "execution_count": 59,
   "id": "c0051ef0",
   "metadata": {},
   "outputs": [],
   "source": [
    "tours.as_tours.to_postgis(\"tours\", con=engine_casestudy, if_exists=\"replace\")"
   ]
  },
  {
   "cell_type": "markdown",
   "id": "3d01516c",
   "metadata": {},
   "source": [
    "## Load from cache"
   ]
  },
  {
   "cell_type": "code",
   "execution_count": 32,
   "id": "5a2ca733",
   "metadata": {},
   "outputs": [],
   "source": [
    "debug_flag = False"
   ]
  },
  {
   "cell_type": "code",
   "execution_count": 33,
   "id": "073ca71c",
   "metadata": {},
   "outputs": [],
   "source": [
    "if debug_flag:\n",
    "    staypoints = ti.io.postgis.read_staypoints_postgis(\n",
    "        f\"SELECT * from staypoints {filter_sql}\",\n",
    "        con=engine_casestudy,\n",
    "        geom_col=\"geom\",\n",
    "        index_col=\"id\",\n",
    "    )\n",
    "    triplegs = ti.io.postgis.read_triplegs_postgis(\n",
    "        f\"SELECT * from triplegs {filter_sql} and ST_isvalid(geom)\",\n",
    "        con=engine_casestudy,\n",
    "        geom_col=\"geom\",\n",
    "        index_col=\"id\",\n",
    "    )\n",
    "    locations = ti.io.postgis.read_locations_postgis(\n",
    "        f\"SELECT * from locations {filter_sql}\", con=engine_casestudy, index_col=\"id\"\n",
    "    )\n",
    "    trips = ti.io.postgis.read_trips_postgis(f\"SELECT * FROM trips {filter_sql}\", con=engine_casestudy, index_col=\"id\")\n",
    "    tours = ti.io.postgis.read_tours_postgis(f\"SELECT * FROM tours {filter_sql}\", con=engine_casestudy, index_col=\"id\")"
   ]
  },
  {
   "cell_type": "markdown",
   "id": "0e5e3596",
   "metadata": {},
   "source": [
    "# Part 2: Dataset comparison"
   ]
  },
  {
   "cell_type": "markdown",
   "id": "b9b3071f",
   "metadata": {},
   "source": [
    "## 1) Simple Statistics\n",
    "\n",
    "Number of users, number of trips, number of trips by user, etc"
   ]
  },
  {
   "cell_type": "code",
   "execution_count": 60,
   "id": "b0954430",
   "metadata": {},
   "outputs": [],
   "source": [
    "overview_df = pd.DataFrame(index=study_mapping.values())\n",
    "\n",
    "overview_df[\"nr_user\"] = staypoints.groupby(by=[\"study\"]).agg({\"user_id\": \"nunique\"})\n",
    "nr_user = overview_df[\"nr_user\"]\n",
    "\n",
    "# nb staypooints\n",
    "overview_df[\"nr_sp\"] = staypoints.groupby(by=[\"study\"]).size()\n",
    "overview_df[\"nr_staypoints_per_user\"] = overview_df[\"nr_sp\"] / nr_user\n",
    "\n",
    "# nb triplegs\n",
    "overview_df[\"nr_tpls\"] = triplegs.groupby(by=[\"study\"]).size()\n",
    "overview_df[\"nr_triplegs_per_user\"] = overview_df[\"nr_tpls\"] / nr_user\n",
    "\n",
    "# nb trips\n",
    "overview_df[\"nr_trips\"] = trips.groupby(by=[\"study\"]).size()\n",
    "overview_df[\"nr_trips_per_user\"] = overview_df[\"nr_trips\"] / nr_user\n",
    "# nb locations\n",
    "\n",
    "overview_df[\"nr_loc\"] = locations.groupby(by=[\"study\"]).size()\n",
    "overview_df[\"nr_locations_per_user\"] = overview_df[\"nr_loc\"] / nr_user\n",
    "\n",
    "# nb tours\n",
    "overview_df[\"nr_tours\"] = tours.groupby(by=[\"study\"]).size()\n",
    "overview_df[\"nr_tours_per_user\"] = overview_df[\"nr_tours\"] / nr_user"
   ]
  },
  {
   "cell_type": "code",
   "execution_count": 61,
   "id": "f06bb22e",
   "metadata": {},
   "outputs": [
    {
     "data": {
      "text/html": [
       "<div>\n",
       "<style scoped>\n",
       "    .dataframe tbody tr th:only-of-type {\n",
       "        vertical-align: middle;\n",
       "    }\n",
       "\n",
       "    .dataframe tbody tr th {\n",
       "        vertical-align: top;\n",
       "    }\n",
       "\n",
       "    .dataframe thead th {\n",
       "        text-align: right;\n",
       "    }\n",
       "</style>\n",
       "<table border=\"1\" class=\"dataframe\">\n",
       "  <thead>\n",
       "    <tr style=\"text-align: right;\">\n",
       "      <th></th>\n",
       "      <th>nr_user</th>\n",
       "      <th>nr_sp</th>\n",
       "      <th>nr_staypoints_per_user</th>\n",
       "      <th>nr_tpls</th>\n",
       "      <th>nr_triplegs_per_user</th>\n",
       "      <th>nr_trips</th>\n",
       "      <th>nr_trips_per_user</th>\n",
       "      <th>nr_loc</th>\n",
       "      <th>nr_locations_per_user</th>\n",
       "      <th>nr_tours</th>\n",
       "      <th>nr_tours_per_user</th>\n",
       "    </tr>\n",
       "  </thead>\n",
       "  <tbody>\n",
       "    <tr>\n",
       "      <th>Green Class 1</th>\n",
       "      <td>139</td>\n",
       "      <td>326926</td>\n",
       "      <td>2351.985612</td>\n",
       "      <td>465189</td>\n",
       "      <td>3346.683453</td>\n",
       "      <td>241827</td>\n",
       "      <td>1739.762590</td>\n",
       "      <td>104497</td>\n",
       "      <td>751.776978</td>\n",
       "      <td>94978</td>\n",
       "      <td>683.294964</td>\n",
       "    </tr>\n",
       "    <tr>\n",
       "      <th>Green Class 2</th>\n",
       "      <td>50</td>\n",
       "      <td>87884</td>\n",
       "      <td>1757.680000</td>\n",
       "      <td>128618</td>\n",
       "      <td>2572.360000</td>\n",
       "      <td>61421</td>\n",
       "      <td>1228.420000</td>\n",
       "      <td>35715</td>\n",
       "      <td>714.300000</td>\n",
       "      <td>22709</td>\n",
       "      <td>454.180000</td>\n",
       "    </tr>\n",
       "    <tr>\n",
       "      <th>Yumuv</th>\n",
       "      <td>806</td>\n",
       "      <td>326271</td>\n",
       "      <td>404.802730</td>\n",
       "      <td>502292</td>\n",
       "      <td>623.191067</td>\n",
       "      <td>199735</td>\n",
       "      <td>247.810174</td>\n",
       "      <td>127320</td>\n",
       "      <td>157.965261</td>\n",
       "      <td>83019</td>\n",
       "      <td>103.001241</td>\n",
       "    </tr>\n",
       "    <tr>\n",
       "      <th>Geolife</th>\n",
       "      <td>177</td>\n",
       "      <td>28877</td>\n",
       "      <td>163.146893</td>\n",
       "      <td>30205</td>\n",
       "      <td>170.649718</td>\n",
       "      <td>30199</td>\n",
       "      <td>170.615819</td>\n",
       "      <td>13575</td>\n",
       "      <td>76.694915</td>\n",
       "      <td>7184</td>\n",
       "      <td>40.587571</td>\n",
       "    </tr>\n",
       "  </tbody>\n",
       "</table>\n",
       "</div>"
      ],
      "text/plain": [
       "               nr_user   nr_sp  nr_staypoints_per_user  nr_tpls  \\\n",
       "Green Class 1      139  326926             2351.985612   465189   \n",
       "Green Class 2       50   87884             1757.680000   128618   \n",
       "Yumuv              806  326271              404.802730   502292   \n",
       "Geolife            177   28877              163.146893    30205   \n",
       "\n",
       "               nr_triplegs_per_user  nr_trips  nr_trips_per_user  nr_loc  \\\n",
       "Green Class 1           3346.683453    241827        1739.762590  104497   \n",
       "Green Class 2           2572.360000     61421        1228.420000   35715   \n",
       "Yumuv                    623.191067    199735         247.810174  127320   \n",
       "Geolife                  170.649718     30199         170.615819   13575   \n",
       "\n",
       "               nr_locations_per_user  nr_tours  nr_tours_per_user  \n",
       "Green Class 1             751.776978     94978         683.294964  \n",
       "Green Class 2             714.300000     22709         454.180000  \n",
       "Yumuv                     157.965261     83019         103.001241  \n",
       "Geolife                    76.694915      7184          40.587571  "
      ]
     },
     "execution_count": 61,
     "metadata": {},
     "output_type": "execute_result"
    }
   ],
   "source": [
    "overview_df"
   ]
  },
  {
   "cell_type": "markdown",
   "id": "89b0e332",
   "metadata": {},
   "source": [
    "## 2) Trip characteristics\n",
    "\n",
    "* How many trips comprise one tour on average? How many triplegs comprise a trip?\n",
    "* What is the average trip duration / distance?"
   ]
  },
  {
   "cell_type": "markdown",
   "id": "7fe37b5a",
   "metadata": {},
   "source": [
    "### Number of hops in tours"
   ]
  },
  {
   "cell_type": "code",
   "execution_count": 62,
   "id": "b66ccb5d",
   "metadata": {},
   "outputs": [],
   "source": [
    "tours[\"nb_hops\"] = tours[\"trips\"].apply(lambda x: len(x))\n",
    "overview_df[\"avg_hops_tours\"] = tours.groupby(\"study\")[\"nb_hops\"].mean()"
   ]
  },
  {
   "cell_type": "code",
   "execution_count": 115,
   "id": "76929300",
   "metadata": {},
   "outputs": [
    {
     "data": {
      "text/plain": [
       "Green Class 1    2.725178\n",
       "Green Class 2    2.656656\n",
       "Yumuv            2.112806\n",
       "Geolife          2.373469\n",
       "Name: avg_hops_tours, dtype: float64"
      ]
     },
     "execution_count": 115,
     "metadata": {},
     "output_type": "execute_result"
    }
   ],
   "source": [
    "overview_df[\"avg_hops_tours\"]"
   ]
  },
  {
   "cell_type": "markdown",
   "id": "c2bd0f1f",
   "metadata": {},
   "source": [
    "### Trip duration"
   ]
  },
  {
   "cell_type": "code",
   "execution_count": 116,
   "id": "ba8a16d2",
   "metadata": {},
   "outputs": [],
   "source": [
    "trips[\"duration_s\"] = (trips[\"finished_at\"] - trips[\"started_at\"]).dt.total_seconds() / 3600"
   ]
  },
  {
   "cell_type": "code",
   "execution_count": 156,
   "id": "ef0e9c1d",
   "metadata": {},
   "outputs": [],
   "source": [
    "overview_df[[\"mean_trip_dur\", \"std_trip_dur\"]] = trips.groupby(\"study\")[\"duration_s\"].aggregate([\"mean\", \"std\"])"
   ]
  },
  {
   "cell_type": "code",
   "execution_count": 118,
   "id": "3b7edac6",
   "metadata": {},
   "outputs": [
    {
     "data": {
      "text/html": [
       "<div>\n",
       "<style scoped>\n",
       "    .dataframe tbody tr th:only-of-type {\n",
       "        vertical-align: middle;\n",
       "    }\n",
       "\n",
       "    .dataframe tbody tr th {\n",
       "        vertical-align: top;\n",
       "    }\n",
       "\n",
       "    .dataframe thead th {\n",
       "        text-align: right;\n",
       "    }\n",
       "</style>\n",
       "<table border=\"1\" class=\"dataframe\">\n",
       "  <thead>\n",
       "    <tr style=\"text-align: right;\">\n",
       "      <th></th>\n",
       "      <th>mean_trip_dur</th>\n",
       "      <th>std_trip_dur</th>\n",
       "    </tr>\n",
       "  </thead>\n",
       "  <tbody>\n",
       "    <tr>\n",
       "      <th>Green Class 1</th>\n",
       "      <td>0.52</td>\n",
       "      <td>0.73</td>\n",
       "    </tr>\n",
       "    <tr>\n",
       "      <th>Green Class 2</th>\n",
       "      <td>0.51</td>\n",
       "      <td>0.75</td>\n",
       "    </tr>\n",
       "    <tr>\n",
       "      <th>Yumuv</th>\n",
       "      <td>0.68</td>\n",
       "      <td>0.91</td>\n",
       "    </tr>\n",
       "    <tr>\n",
       "      <th>Geolife</th>\n",
       "      <td>0.64</td>\n",
       "      <td>0.94</td>\n",
       "    </tr>\n",
       "  </tbody>\n",
       "</table>\n",
       "</div>"
      ],
      "text/plain": [
       "               mean_trip_dur  std_trip_dur\n",
       "Green Class 1           0.52          0.73\n",
       "Green Class 2           0.51          0.75\n",
       "Yumuv                   0.68          0.91\n",
       "Geolife                 0.64          0.94"
      ]
     },
     "execution_count": 118,
     "metadata": {},
     "output_type": "execute_result"
    }
   ],
   "source": [
    "overview_df[[\"mean_trip_dur\", \"std_trip_dur\"]]"
   ]
  },
  {
   "cell_type": "markdown",
   "id": "997097ad",
   "metadata": {},
   "source": [
    "### Overall tracking period and number of trips per day per user"
   ]
  },
  {
   "cell_type": "code",
   "execution_count": 120,
   "id": "bf999a1f",
   "metadata": {},
   "outputs": [],
   "source": [
    "min_max_times_by_user = trips.groupby([\"study\", \"user_id\"]).aggregate({\"started_at\": \"min\", \"finished_at\": \"max\"})\n",
    "duration_by_user = (min_max_times_by_user[\"finished_at\"] -\n",
    "                    min_max_times_by_user[\"started_at\"]).dt.total_seconds() / (3600 * 24)\n",
    "\n",
    "overview_df[[\"mean_tracking_period\", \"std_tracking_period\"]] = duration_by_user.groupby(\"study\").aggregate(\n",
    "    [\"mean\", \"std\"]\n",
    ")"
   ]
  },
  {
   "cell_type": "code",
   "execution_count": 121,
   "id": "115959d2",
   "metadata": {},
   "outputs": [
    {
     "data": {
      "text/html": [
       "<div>\n",
       "<style scoped>\n",
       "    .dataframe tbody tr th:only-of-type {\n",
       "        vertical-align: middle;\n",
       "    }\n",
       "\n",
       "    .dataframe tbody tr th {\n",
       "        vertical-align: top;\n",
       "    }\n",
       "\n",
       "    .dataframe thead th {\n",
       "        text-align: right;\n",
       "    }\n",
       "</style>\n",
       "<table border=\"1\" class=\"dataframe\">\n",
       "  <thead>\n",
       "    <tr style=\"text-align: right;\">\n",
       "      <th></th>\n",
       "      <th>mean_tracking_period</th>\n",
       "      <th>std_tracking_period</th>\n",
       "    </tr>\n",
       "  </thead>\n",
       "  <tbody>\n",
       "    <tr>\n",
       "      <th>Green Class 1</th>\n",
       "      <td>401.639038</td>\n",
       "      <td>59.289224</td>\n",
       "    </tr>\n",
       "    <tr>\n",
       "      <th>Green Class 2</th>\n",
       "      <td>314.203054</td>\n",
       "      <td>76.458555</td>\n",
       "    </tr>\n",
       "    <tr>\n",
       "      <th>Yumuv</th>\n",
       "      <td>87.393827</td>\n",
       "      <td>38.954972</td>\n",
       "    </tr>\n",
       "    <tr>\n",
       "      <th>Geolife</th>\n",
       "      <td>193.216082</td>\n",
       "      <td>443.133363</td>\n",
       "    </tr>\n",
       "  </tbody>\n",
       "</table>\n",
       "</div>"
      ],
      "text/plain": [
       "               mean_tracking_period  std_tracking_period\n",
       "Green Class 1            401.639038            59.289224\n",
       "Green Class 2            314.203054            76.458555\n",
       "Yumuv                     87.393827            38.954972\n",
       "Geolife                  193.216082           443.133363"
      ]
     },
     "execution_count": 121,
     "metadata": {},
     "output_type": "execute_result"
    }
   ],
   "source": [
    "overview_df[[\"mean_tracking_period\", \"std_tracking_period\"]]"
   ]
  },
  {
   "cell_type": "markdown",
   "id": "abe64f06",
   "metadata": {},
   "source": [
    "# Todo: decide on one of the two cells"
   ]
  },
  {
   "cell_type": "code",
   "execution_count": 66,
   "id": "4e6d46e7",
   "metadata": {},
   "outputs": [],
   "source": [
    "# average trips per day on days with data\n",
    "trips_temp = trips.set_index(\"started_at\")\n",
    "nr_trips_per_user_per_day = (\n",
    "    trips_temp.groupby([\"study\", \"user_id\", pd.Grouper(freq=\"D\")]).size().groupby(\"study\").mean()\n",
    ")\n",
    "overview_df[\"nr_trips_per_user_per_day\"] = nr_trips_per_user_per_day"
   ]
  },
  {
   "cell_type": "code",
   "execution_count": 113,
   "id": "9f702519",
   "metadata": {},
   "outputs": [
    {
     "data": {
      "text/plain": [
       "Green Class 1    4.888357\n",
       "Green Class 2    4.770934\n",
       "Yumuv            3.413282\n",
       "Geolife          2.758403\n",
       "Name: nr_trips_per_user_per_day, dtype: float64"
      ]
     },
     "execution_count": 113,
     "metadata": {},
     "output_type": "execute_result"
    }
   ],
   "source": [
    "overview_df[\"nr_trips_per_user_per_day\"]"
   ]
  },
  {
   "cell_type": "code",
   "execution_count": 67,
   "id": "b0c9f932",
   "metadata": {},
   "outputs": [],
   "source": [
    "# average trips per day over full tracking period\n",
    "nr_trips_per_user_per_day = (trips.groupby([\"study\", \"user_id\"]).size() / duration_by_user).groupby(\"study\").mean()"
   ]
  },
  {
   "cell_type": "code",
   "execution_count": 114,
   "id": "eb57d441",
   "metadata": {},
   "outputs": [
    {
     "data": {
      "text/plain": [
       "study\n",
       "Geolife          1.701115\n",
       "Green Class 1    4.319424\n",
       "Green Class 2    3.797688\n",
       "Yumuv            3.131575\n",
       "dtype: float64"
      ]
     },
     "execution_count": 114,
     "metadata": {},
     "output_type": "execute_result"
    }
   ],
   "source": [
    "nr_trips_per_user_per_day"
   ]
  },
  {
   "cell_type": "markdown",
   "id": "a545b0b4",
   "metadata": {},
   "source": [
    "### Trip distance"
   ]
  },
  {
   "cell_type": "code",
   "execution_count": 69,
   "id": "7cf8f87c",
   "metadata": {},
   "outputs": [],
   "source": [
    "triplegs[\"length_in_m\"] = ti.geogr.distances.calculate_haversine_length(triplegs)"
   ]
  },
  {
   "cell_type": "code",
   "execution_count": 122,
   "id": "365b99d9",
   "metadata": {},
   "outputs": [],
   "source": [
    "metrics_per_trip = triplegs.groupby([\"study\", \"trip_id\"]).agg({\"trip_id\": \"count\", \"length_in_m\": \"sum\"})\n",
    "\n",
    "overview_df[[\"nr_legs_per_trip\", \"avg_trip_length\", \"std_trip_length\"]] = metrics_per_trip.groupby(\"study\").agg(\n",
    "    {\"trip_id\": \"mean\", \"length_in_m\": [\"mean\", \"std\"]}\n",
    ")"
   ]
  },
  {
   "cell_type": "code",
   "execution_count": 112,
   "id": "deaa5bc5",
   "metadata": {},
   "outputs": [
    {
     "data": {
      "text/html": [
       "<div>\n",
       "<style scoped>\n",
       "    .dataframe tbody tr th:only-of-type {\n",
       "        vertical-align: middle;\n",
       "    }\n",
       "\n",
       "    .dataframe tbody tr th {\n",
       "        vertical-align: top;\n",
       "    }\n",
       "\n",
       "    .dataframe thead th {\n",
       "        text-align: right;\n",
       "    }\n",
       "</style>\n",
       "<table border=\"1\" class=\"dataframe\">\n",
       "  <thead>\n",
       "    <tr style=\"text-align: right;\">\n",
       "      <th></th>\n",
       "      <th>nr_legs_per_trip</th>\n",
       "      <th>avg_trip_length</th>\n",
       "      <th>std_trip_length</th>\n",
       "    </tr>\n",
       "  </thead>\n",
       "  <tbody>\n",
       "    <tr>\n",
       "      <th>Green Class 1</th>\n",
       "      <td>1.923644</td>\n",
       "      <td>27353.308942</td>\n",
       "      <td>4.786795e+05</td>\n",
       "    </tr>\n",
       "    <tr>\n",
       "      <th>Green Class 2</th>\n",
       "      <td>2.094039</td>\n",
       "      <td>33656.574835</td>\n",
       "      <td>5.681591e+05</td>\n",
       "    </tr>\n",
       "    <tr>\n",
       "      <th>Yumuv</th>\n",
       "      <td>2.514616</td>\n",
       "      <td>16883.392911</td>\n",
       "      <td>1.004259e+05</td>\n",
       "    </tr>\n",
       "    <tr>\n",
       "      <th>Geolife</th>\n",
       "      <td>1.000000</td>\n",
       "      <td>36091.470623</td>\n",
       "      <td>3.163541e+06</td>\n",
       "    </tr>\n",
       "  </tbody>\n",
       "</table>\n",
       "</div>"
      ],
      "text/plain": [
       "               nr_legs_per_trip  avg_trip_length  std_trip_length\n",
       "Green Class 1          1.923644     27353.308942     4.786795e+05\n",
       "Green Class 2          2.094039     33656.574835     5.681591e+05\n",
       "Yumuv                  2.514616     16883.392911     1.004259e+05\n",
       "Geolife                1.000000     36091.470623     3.163541e+06"
      ]
     },
     "execution_count": 112,
     "metadata": {},
     "output_type": "execute_result"
    }
   ],
   "source": [
    "overview_df[[\"nr_legs_per_trip\", \"avg_trip_length\", \"std_trip_length\"]]"
   ]
  },
  {
   "cell_type": "markdown",
   "id": "64d48409",
   "metadata": {},
   "source": [
    "### Tracking quality (temporal coverage)"
   ]
  },
  {
   "cell_type": "code",
   "execution_count": 123,
   "id": "0dcfe10a",
   "metadata": {},
   "outputs": [],
   "source": [
    "triplegs_staypoints = pd.concat([triplegs, staypoints])\n",
    "tracking_quality_by_user_study = triplegs_staypoints.groupby(\"study\").apply(temporal_tracking_quality)\n",
    "overview_df[[\"mean_tracking_quality\", \"std_tracking_quality\"]] = tracking_quality_by_user_study.groupby(\"study\")['quality'].agg(\n",
    "    [\"mean\", \"std\"]\n",
    ")"
   ]
  },
  {
   "cell_type": "code",
   "execution_count": 124,
   "id": "77e85b50",
   "metadata": {},
   "outputs": [
    {
     "data": {
      "text/html": [
       "<div>\n",
       "<style scoped>\n",
       "    .dataframe tbody tr th:only-of-type {\n",
       "        vertical-align: middle;\n",
       "    }\n",
       "\n",
       "    .dataframe tbody tr th {\n",
       "        vertical-align: top;\n",
       "    }\n",
       "\n",
       "    .dataframe thead th {\n",
       "        text-align: right;\n",
       "    }\n",
       "</style>\n",
       "<table border=\"1\" class=\"dataframe\">\n",
       "  <thead>\n",
       "    <tr style=\"text-align: right;\">\n",
       "      <th></th>\n",
       "      <th>mean_tracking_quality</th>\n",
       "      <th>std_tracking_quality</th>\n",
       "    </tr>\n",
       "  </thead>\n",
       "  <tbody>\n",
       "    <tr>\n",
       "      <th>Green Class 1</th>\n",
       "      <td>0.846013</td>\n",
       "      <td>0.170496</td>\n",
       "    </tr>\n",
       "    <tr>\n",
       "      <th>Green Class 2</th>\n",
       "      <td>0.753360</td>\n",
       "      <td>0.237378</td>\n",
       "    </tr>\n",
       "    <tr>\n",
       "      <th>Yumuv</th>\n",
       "      <td>0.766790</td>\n",
       "      <td>0.231347</td>\n",
       "    </tr>\n",
       "    <tr>\n",
       "      <th>Geolife</th>\n",
       "      <td>0.397451</td>\n",
       "      <td>0.317477</td>\n",
       "    </tr>\n",
       "  </tbody>\n",
       "</table>\n",
       "</div>"
      ],
      "text/plain": [
       "               mean_tracking_quality  std_tracking_quality\n",
       "Green Class 1               0.846013              0.170496\n",
       "Green Class 2               0.753360              0.237378\n",
       "Yumuv                       0.766790              0.231347\n",
       "Geolife                     0.397451              0.317477"
      ]
     },
     "execution_count": 124,
     "metadata": {},
     "output_type": "execute_result"
    }
   ],
   "source": [
    "overview_df[[\"mean_tracking_quality\", \"std_tracking_quality\"]]"
   ]
  },
  {
   "cell_type": "markdown",
   "id": "9cac160c",
   "metadata": {},
   "source": [
    "## 3) Finalize results in two tables"
   ]
  },
  {
   "cell_type": "markdown",
   "id": "3b3a83c2",
   "metadata": {},
   "source": [
    "### 3.1) Simple dataset stats as pretty table"
   ]
  },
  {
   "cell_type": "code",
   "execution_count": 151,
   "id": "9ba16231",
   "metadata": {},
   "outputs": [],
   "source": [
    "# basic info\n",
    "overview_df.fillna(0, inplace=True)\n",
    "df_basic = overview_df[\n",
    "    [\n",
    "        \"nr_user\",\n",
    "        \"mean_tracking_period\",\n",
    "        \"std_tracking_period\",\n",
    "        \"nr_loc\",\n",
    "        \"nr_sp\",\n",
    "        \"nr_tpls\",\n",
    "        \"nr_trips\",\n",
    "        \"nr_tours\",\n",
    "    ]\n",
    "].astype(int)"
   ]
  },
  {
   "cell_type": "code",
   "execution_count": 152,
   "id": "1c6228c1",
   "metadata": {},
   "outputs": [],
   "source": [
    "# format mean tracking period and its std nicely\n",
    "df_basic[\"Tracking period (std)\"] = df_basic.apply(\n",
    "    lambda x: f\"{x['mean_tracking_period']} ({x['std_tracking_period']})\", axis=1\n",
    ")"
   ]
  },
  {
   "cell_type": "code",
   "execution_count": 153,
   "id": "d376ee3b",
   "metadata": {},
   "outputs": [],
   "source": [
    "# set column values for data type and tracking technology\n",
    "df_basic.loc[[\"Green Class 1\", \"Green Class 2\", \"Yumuv\"], \"Input\"] = \"Staypoints, Triplegs\"\n",
    "df_basic.loc[\"Geolife\", \"Input\"] = \"Positionfixes\"\n",
    "\n",
    "df_basic.loc[[\"Green Class 1\", \"Green Class 2\", \"Yumuv\"], \"Study type\"] = \"GNSS (app)\"\n",
    "df_basic.loc[\"Geolife\", \"Study type\"] = \"GPS tracker\""
   ]
  },
  {
   "cell_type": "code",
   "execution_count": 154,
   "id": "ec42827b",
   "metadata": {},
   "outputs": [],
   "source": [
    "# rename columns and index\n",
    "df_basic = df_basic.rename(\n",
    "    columns={\n",
    "        \"nr_user\": \"Users\",\n",
    "        \"nr_loc\": \"Locations\",\n",
    "        \"nr_sp\": \"Staypoints\",\n",
    "        \"nr_tpls\": \"Triplegs\",\n",
    "        \"nr_trips\": \"Trips\",\n",
    "        \"nr_tours\": \"Tours\",\n",
    "    },\n",
    "    index=study_mapping)\n",
    "df_basic.drop(columns=[\"mean_tracking_period\", \"std_tracking_period\"], inplace=True)"
   ]
  },
  {
   "cell_type": "code",
   "execution_count": 155,
   "id": "5c159b87",
   "metadata": {},
   "outputs": [
    {
     "data": {
      "text/html": [
       "<div>\n",
       "<style scoped>\n",
       "    .dataframe tbody tr th:only-of-type {\n",
       "        vertical-align: middle;\n",
       "    }\n",
       "\n",
       "    .dataframe tbody tr th {\n",
       "        vertical-align: top;\n",
       "    }\n",
       "\n",
       "    .dataframe thead th {\n",
       "        text-align: right;\n",
       "    }\n",
       "</style>\n",
       "<table border=\"1\" class=\"dataframe\">\n",
       "  <thead>\n",
       "    <tr style=\"text-align: right;\">\n",
       "      <th></th>\n",
       "      <th>Users</th>\n",
       "      <th>Tracking period (std)</th>\n",
       "      <th>Input</th>\n",
       "      <th>Study type</th>\n",
       "      <th>Locations</th>\n",
       "      <th>Staypoints</th>\n",
       "      <th>Triplegs</th>\n",
       "      <th>Trips</th>\n",
       "      <th>Tours</th>\n",
       "    </tr>\n",
       "  </thead>\n",
       "  <tbody>\n",
       "    <tr>\n",
       "      <th>Green Class 1</th>\n",
       "      <td>139</td>\n",
       "      <td>401 (59)</td>\n",
       "      <td>Staypoints, Triplegs</td>\n",
       "      <td>GNSS (app)</td>\n",
       "      <td>104497</td>\n",
       "      <td>326926</td>\n",
       "      <td>465189</td>\n",
       "      <td>241827</td>\n",
       "      <td>94978</td>\n",
       "    </tr>\n",
       "    <tr>\n",
       "      <th>Green Class 2</th>\n",
       "      <td>50</td>\n",
       "      <td>314 (76)</td>\n",
       "      <td>Staypoints, Triplegs</td>\n",
       "      <td>GNSS (app)</td>\n",
       "      <td>35715</td>\n",
       "      <td>87884</td>\n",
       "      <td>128618</td>\n",
       "      <td>61421</td>\n",
       "      <td>22709</td>\n",
       "    </tr>\n",
       "    <tr>\n",
       "      <th>Yumuv</th>\n",
       "      <td>806</td>\n",
       "      <td>87 (38)</td>\n",
       "      <td>Staypoints, Triplegs</td>\n",
       "      <td>GNSS (app)</td>\n",
       "      <td>127320</td>\n",
       "      <td>326271</td>\n",
       "      <td>502292</td>\n",
       "      <td>199735</td>\n",
       "      <td>83019</td>\n",
       "    </tr>\n",
       "    <tr>\n",
       "      <th>Geolife</th>\n",
       "      <td>177</td>\n",
       "      <td>193 (443)</td>\n",
       "      <td>Positionfixes</td>\n",
       "      <td>GPS tracker</td>\n",
       "      <td>13575</td>\n",
       "      <td>28877</td>\n",
       "      <td>30205</td>\n",
       "      <td>30199</td>\n",
       "      <td>7184</td>\n",
       "    </tr>\n",
       "  </tbody>\n",
       "</table>\n",
       "</div>"
      ],
      "text/plain": [
       "               Users Tracking period (std)                 Input   Study type  \\\n",
       "Green Class 1    139              401 (59)  Staypoints, Triplegs   GNSS (app)   \n",
       "Green Class 2     50              314 (76)  Staypoints, Triplegs   GNSS (app)   \n",
       "Yumuv            806               87 (38)  Staypoints, Triplegs   GNSS (app)   \n",
       "Geolife          177             193 (443)         Positionfixes  GPS tracker   \n",
       "\n",
       "               Locations  Staypoints  Triplegs   Trips  Tours  \n",
       "Green Class 1     104497      326926    465189  241827  94978  \n",
       "Green Class 2      35715       87884    128618   61421  22709  \n",
       "Yumuv             127320      326271    502292  199735  83019  \n",
       "Geolife            13575       28877     30205   30199   7184  "
      ]
     },
     "execution_count": 155,
     "metadata": {},
     "output_type": "execute_result"
    }
   ],
   "source": [
    "# select the columns in the right order\n",
    "df_basic = df_basic[\n",
    "    [\n",
    "        \"Users\",\n",
    "        \"Tracking period (std)\",\n",
    "        \"Input\",\n",
    "        \"Study type\",\n",
    "        \"Locations\",\n",
    "        \"Staypoints\",\n",
    "        \"Triplegs\",\n",
    "        \"Trips\",\n",
    "        \"Tours\",\n",
    "    ]\n",
    "]\n",
    "\n",
    "df_basic\n",
    "# print(df_basic.to_latex())"
   ]
  },
  {
   "cell_type": "markdown",
   "id": "f22dde33",
   "metadata": {},
   "source": [
    "### 3.2) Analysis results as pretty table"
   ]
  },
  {
   "cell_type": "code",
   "execution_count": 162,
   "id": "8ba0aded",
   "metadata": {},
   "outputs": [
    {
     "data": {
      "text/html": [
       "<div>\n",
       "<style scoped>\n",
       "    .dataframe tbody tr th:only-of-type {\n",
       "        vertical-align: middle;\n",
       "    }\n",
       "\n",
       "    .dataframe tbody tr th {\n",
       "        vertical-align: top;\n",
       "    }\n",
       "\n",
       "    .dataframe thead th {\n",
       "        text-align: right;\n",
       "    }\n",
       "</style>\n",
       "<table border=\"1\" class=\"dataframe\">\n",
       "  <thead>\n",
       "    <tr style=\"text-align: right;\">\n",
       "      <th></th>\n",
       "      <th>nr_trips_per_user_per_day</th>\n",
       "      <th>mean_trip_dur</th>\n",
       "      <th>std_trip_dur</th>\n",
       "      <th>avg_hops_tours</th>\n",
       "      <th>nr_legs_per_trip</th>\n",
       "      <th>avg_trip_length</th>\n",
       "      <th>std_trip_length</th>\n",
       "      <th>mean_tracking_quality</th>\n",
       "      <th>std_tracking_quality</th>\n",
       "    </tr>\n",
       "  </thead>\n",
       "  <tbody>\n",
       "    <tr>\n",
       "      <th>Green Class 1</th>\n",
       "      <td>4.89</td>\n",
       "      <td>0.52</td>\n",
       "      <td>0.73</td>\n",
       "      <td>2.73</td>\n",
       "      <td>1.92</td>\n",
       "      <td>27390.82</td>\n",
       "      <td>479183.81</td>\n",
       "      <td>0.85</td>\n",
       "      <td>0.17</td>\n",
       "    </tr>\n",
       "    <tr>\n",
       "      <th>Green Class 2</th>\n",
       "      <td>4.77</td>\n",
       "      <td>0.51</td>\n",
       "      <td>0.75</td>\n",
       "      <td>2.66</td>\n",
       "      <td>2.09</td>\n",
       "      <td>33835.54</td>\n",
       "      <td>570125.17</td>\n",
       "      <td>0.75</td>\n",
       "      <td>0.24</td>\n",
       "    </tr>\n",
       "    <tr>\n",
       "      <th>Yumuv</th>\n",
       "      <td>3.41</td>\n",
       "      <td>0.68</td>\n",
       "      <td>0.91</td>\n",
       "      <td>2.11</td>\n",
       "      <td>2.51</td>\n",
       "      <td>16883.39</td>\n",
       "      <td>100425.90</td>\n",
       "      <td>0.77</td>\n",
       "      <td>0.23</td>\n",
       "    </tr>\n",
       "    <tr>\n",
       "      <th>Geolife</th>\n",
       "      <td>2.76</td>\n",
       "      <td>0.64</td>\n",
       "      <td>0.94</td>\n",
       "      <td>2.37</td>\n",
       "      <td>1.00</td>\n",
       "      <td>36092.18</td>\n",
       "      <td>3163593.53</td>\n",
       "      <td>0.40</td>\n",
       "      <td>0.32</td>\n",
       "    </tr>\n",
       "  </tbody>\n",
       "</table>\n",
       "</div>"
      ],
      "text/plain": [
       "               nr_trips_per_user_per_day  mean_trip_dur  std_trip_dur  \\\n",
       "Green Class 1                       4.89           0.52          0.73   \n",
       "Green Class 2                       4.77           0.51          0.75   \n",
       "Yumuv                               3.41           0.68          0.91   \n",
       "Geolife                             2.76           0.64          0.94   \n",
       "\n",
       "               avg_hops_tours  nr_legs_per_trip  avg_trip_length  \\\n",
       "Green Class 1            2.73              1.92         27390.82   \n",
       "Green Class 2            2.66              2.09         33835.54   \n",
       "Yumuv                    2.11              2.51         16883.39   \n",
       "Geolife                  2.37              1.00         36092.18   \n",
       "\n",
       "               std_trip_length  mean_tracking_quality  std_tracking_quality  \n",
       "Green Class 1        479183.81                   0.85                  0.17  \n",
       "Green Class 2        570125.17                   0.75                  0.24  \n",
       "Yumuv                100425.90                   0.77                  0.23  \n",
       "Geolife             3163593.53                   0.40                  0.32  "
      ]
     },
     "execution_count": 162,
     "metadata": {},
     "output_type": "execute_result"
    }
   ],
   "source": [
    "# Analysis table\n",
    "df_detailed = overview_df[\n",
    "    [\n",
    "        \"nr_trips_per_user_per_day\",\n",
    "        \"mean_trip_dur\",\n",
    "        \"std_trip_dur\",\n",
    "        \"avg_hops_tours\",\n",
    "        \"nr_legs_per_trip\",\n",
    "        \"avg_trip_length\",\n",
    "        \"std_trip_length\",\n",
    "        \"mean_tracking_quality\",\n",
    "        \"std_tracking_quality\",\n",
    "    ]\n",
    "]\n",
    "\n",
    "df_detailed = df_detailed.round(2)\n",
    "df_detailed"
   ]
  },
  {
   "cell_type": "code",
   "execution_count": 164,
   "id": "cc50d1e9",
   "metadata": {},
   "outputs": [],
   "source": [
    "# # format mean and its std nicely in a single cell\n",
    "df_detailed[\"Trip distance (std)\"] = df_detailed.apply(\n",
    "    lambda x: f\"{int(x['avg_trip_length'])} ({int(x['std_trip_length'])})\", axis=1\n",
    ")\n",
    "df_detailed[\"Trip duration (std)\"] = df_detailed.apply(lambda x: f\"{x['mean_trip_dur']} ({x['std_trip_dur']})\", axis=1)\n",
    "df_detailed[\"Tracking quality (std)\"] = df_detailed.apply(\n",
    "    lambda x: f\"{x['mean_tracking_quality']} ({x['std_tracking_quality']})\", axis=1\n",
    ")"
   ]
  },
  {
   "cell_type": "code",
   "execution_count": 165,
   "id": "740dd475",
   "metadata": {},
   "outputs": [
    {
     "data": {
      "text/html": [
       "<div>\n",
       "<style scoped>\n",
       "    .dataframe tbody tr th:only-of-type {\n",
       "        vertical-align: middle;\n",
       "    }\n",
       "\n",
       "    .dataframe tbody tr th {\n",
       "        vertical-align: top;\n",
       "    }\n",
       "\n",
       "    .dataframe thead th {\n",
       "        text-align: right;\n",
       "    }\n",
       "</style>\n",
       "<table border=\"1\" class=\"dataframe\">\n",
       "  <thead>\n",
       "    <tr style=\"text-align: right;\">\n",
       "      <th></th>\n",
       "      <th>Trips per day</th>\n",
       "      <th>Trips per tour</th>\n",
       "      <th>Legs per trip</th>\n",
       "      <th>Trip distance (std)</th>\n",
       "      <th>Trip duration (std)</th>\n",
       "      <th>Tracking quality (std)</th>\n",
       "    </tr>\n",
       "  </thead>\n",
       "  <tbody>\n",
       "    <tr>\n",
       "      <th>Green Class 1</th>\n",
       "      <td>4.89</td>\n",
       "      <td>2.73</td>\n",
       "      <td>1.92</td>\n",
       "      <td>27390 (479183)</td>\n",
       "      <td>0.52 (0.73)</td>\n",
       "      <td>0.85 (0.17)</td>\n",
       "    </tr>\n",
       "    <tr>\n",
       "      <th>Green Class 2</th>\n",
       "      <td>4.77</td>\n",
       "      <td>2.66</td>\n",
       "      <td>2.09</td>\n",
       "      <td>33835 (570125)</td>\n",
       "      <td>0.51 (0.75)</td>\n",
       "      <td>0.75 (0.24)</td>\n",
       "    </tr>\n",
       "    <tr>\n",
       "      <th>Yumuv</th>\n",
       "      <td>3.41</td>\n",
       "      <td>2.11</td>\n",
       "      <td>2.51</td>\n",
       "      <td>16883 (100425)</td>\n",
       "      <td>0.68 (0.91)</td>\n",
       "      <td>0.77 (0.23)</td>\n",
       "    </tr>\n",
       "    <tr>\n",
       "      <th>Geolife</th>\n",
       "      <td>2.76</td>\n",
       "      <td>2.37</td>\n",
       "      <td>1.00</td>\n",
       "      <td>36092 (3163593)</td>\n",
       "      <td>0.64 (0.94)</td>\n",
       "      <td>0.4 (0.32)</td>\n",
       "    </tr>\n",
       "  </tbody>\n",
       "</table>\n",
       "</div>"
      ],
      "text/plain": [
       "               Trips per day  Trips per tour  Legs per trip  \\\n",
       "Green Class 1           4.89            2.73           1.92   \n",
       "Green Class 2           4.77            2.66           2.09   \n",
       "Yumuv                   3.41            2.11           2.51   \n",
       "Geolife                 2.76            2.37           1.00   \n",
       "\n",
       "              Trip distance (std) Trip duration (std) Tracking quality (std)  \n",
       "Green Class 1      27390 (479183)         0.52 (0.73)            0.85 (0.17)  \n",
       "Green Class 2      33835 (570125)         0.51 (0.75)            0.75 (0.24)  \n",
       "Yumuv              16883 (100425)         0.68 (0.91)            0.77 (0.23)  \n",
       "Geolife           36092 (3163593)         0.64 (0.94)             0.4 (0.32)  "
      ]
     },
     "execution_count": 165,
     "metadata": {},
     "output_type": "execute_result"
    }
   ],
   "source": [
    "df_detailed = df_detailed.rename(\n",
    "    columns={\n",
    "        \"nr_trips_per_user_per_day\": \"Trips per day\",\n",
    "        \"avg_hops_tours\": \"Trips per tour\",\n",
    "        \"nr_legs_per_trip\": \"Legs per trip\",\n",
    "    }\n",
    ")\n",
    "df_detailed.drop(\n",
    "    [\n",
    "        \"avg_trip_length\",\n",
    "        \"std_trip_length\",\n",
    "        \"mean_tracking_quality\",\n",
    "        \"std_tracking_quality\",\n",
    "        \"mean_trip_dur\",\n",
    "        \"std_trip_dur\",\n",
    "    ],\n",
    "    axis=1,\n",
    "    inplace=True,\n",
    ")\n",
    "\n",
    "df_detailed\n",
    "# print(df_detailed.to_latex())"
   ]
  },
  {
   "cell_type": "markdown",
   "id": "2618bd0e",
   "metadata": {},
   "source": [
    "## 4) KDE plot for user tracking quality distribution"
   ]
  },
  {
   "cell_type": "code",
   "execution_count": 166,
   "id": "941b1a1a",
   "metadata": {},
   "outputs": [
    {
     "data": {
      "text/html": [
       "<div>\n",
       "<style scoped>\n",
       "    .dataframe tbody tr th:only-of-type {\n",
       "        vertical-align: middle;\n",
       "    }\n",
       "\n",
       "    .dataframe tbody tr th {\n",
       "        vertical-align: top;\n",
       "    }\n",
       "\n",
       "    .dataframe thead th {\n",
       "        text-align: right;\n",
       "    }\n",
       "</style>\n",
       "<table border=\"1\" class=\"dataframe\">\n",
       "  <thead>\n",
       "    <tr style=\"text-align: right;\">\n",
       "      <th>study</th>\n",
       "      <th>Geolife</th>\n",
       "      <th>Green Class 1</th>\n",
       "      <th>Green Class 2</th>\n",
       "      <th>Yumuv</th>\n",
       "    </tr>\n",
       "  </thead>\n",
       "  <tbody>\n",
       "    <tr>\n",
       "      <th>0</th>\n",
       "      <td>0.426798</td>\n",
       "      <td>0.866418</td>\n",
       "      <td>0.820881</td>\n",
       "      <td>0.838921</td>\n",
       "    </tr>\n",
       "    <tr>\n",
       "      <th>1</th>\n",
       "      <td>0.772387</td>\n",
       "      <td>0.974977</td>\n",
       "      <td>0.887259</td>\n",
       "      <td>0.372596</td>\n",
       "    </tr>\n",
       "    <tr>\n",
       "      <th>2</th>\n",
       "      <td>0.119809</td>\n",
       "      <td>0.975364</td>\n",
       "      <td>0.899003</td>\n",
       "      <td>0.888794</td>\n",
       "    </tr>\n",
       "    <tr>\n",
       "      <th>3</th>\n",
       "      <td>0.146686</td>\n",
       "      <td>0.807545</td>\n",
       "      <td>0.920321</td>\n",
       "      <td>0.980707</td>\n",
       "    </tr>\n",
       "    <tr>\n",
       "      <th>4</th>\n",
       "      <td>0.080984</td>\n",
       "      <td>0.929822</td>\n",
       "      <td>0.234912</td>\n",
       "      <td>0.956829</td>\n",
       "    </tr>\n",
       "    <tr>\n",
       "      <th>...</th>\n",
       "      <td>...</td>\n",
       "      <td>...</td>\n",
       "      <td>...</td>\n",
       "      <td>...</td>\n",
       "    </tr>\n",
       "    <tr>\n",
       "      <th>812</th>\n",
       "      <td>NaN</td>\n",
       "      <td>NaN</td>\n",
       "      <td>NaN</td>\n",
       "      <td>0.671191</td>\n",
       "    </tr>\n",
       "    <tr>\n",
       "      <th>813</th>\n",
       "      <td>NaN</td>\n",
       "      <td>NaN</td>\n",
       "      <td>NaN</td>\n",
       "      <td>0.945578</td>\n",
       "    </tr>\n",
       "    <tr>\n",
       "      <th>814</th>\n",
       "      <td>NaN</td>\n",
       "      <td>NaN</td>\n",
       "      <td>NaN</td>\n",
       "      <td>0.779364</td>\n",
       "    </tr>\n",
       "    <tr>\n",
       "      <th>815</th>\n",
       "      <td>NaN</td>\n",
       "      <td>NaN</td>\n",
       "      <td>NaN</td>\n",
       "      <td>0.748584</td>\n",
       "    </tr>\n",
       "    <tr>\n",
       "      <th>816</th>\n",
       "      <td>NaN</td>\n",
       "      <td>NaN</td>\n",
       "      <td>NaN</td>\n",
       "      <td>0.964892</td>\n",
       "    </tr>\n",
       "  </tbody>\n",
       "</table>\n",
       "<p>817 rows × 4 columns</p>\n",
       "</div>"
      ],
      "text/plain": [
       "study   Geolife  Green Class 1  Green Class 2     Yumuv\n",
       "0      0.426798       0.866418       0.820881  0.838921\n",
       "1      0.772387       0.974977       0.887259  0.372596\n",
       "2      0.119809       0.975364       0.899003  0.888794\n",
       "3      0.146686       0.807545       0.920321  0.980707\n",
       "4      0.080984       0.929822       0.234912  0.956829\n",
       "..          ...            ...            ...       ...\n",
       "812         NaN            NaN            NaN  0.671191\n",
       "813         NaN            NaN            NaN  0.945578\n",
       "814         NaN            NaN            NaN  0.779364\n",
       "815         NaN            NaN            NaN  0.748584\n",
       "816         NaN            NaN            NaN  0.964892\n",
       "\n",
       "[817 rows x 4 columns]"
      ]
     },
     "execution_count": 166,
     "metadata": {},
     "output_type": "execute_result"
    }
   ],
   "source": [
    "new_df = tracking_quality_by_user_study.reset_index(drop=False, level=0).drop(\"user_id\", axis=1)\n",
    "new_df = new_df.pivot(columns=\"study\", values=\"quality\")\n",
    "new_df"
   ]
  },
  {
   "cell_type": "code",
   "execution_count": 167,
   "id": "f90472a1",
   "metadata": {},
   "outputs": [
    {
     "data": {
      "image/png": "[encoded data removed]",
      "text/plain": [
       "<Figure size 3000x1800 with 1 Axes>"
      ]
     },
     "metadata": {
      "needs_background": "light"
     },
     "output_type": "display_data"
    }
   ],
   "source": [
    "fig, ax = plt.subplots(figsize=(5, 3))\n",
    "plt.rcParams.update({\"font.size\": 15})\n",
    "g = sns.kdeplot(\n",
    "    data=new_df,\n",
    "    fill=True,\n",
    "    alpha=0.3,\n",
    "    legend=True,\n",
    "    common_grid=True,\n",
    "    common_norm=False,\n",
    "    ax=ax,\n",
    ")\n",
    "\n",
    "plt.ylabel(\"Density (users)\")\n",
    "plt.xlabel(\"Tracking quality\")\n",
    "sns.move_legend(g, \"upper left\")\n",
    "plt.xlim(0, 1)\n",
    "plt.savefig(os.path.join(out_path, \"tracking_quality_kde.png\"))\n",
    "plt.show()"
   ]
  },
  {
   "cell_type": "markdown",
   "id": "59d82585",
   "metadata": {
    "scrolled": false
   },
   "source": [
    "## 5) Modal split dataset comparison"
   ]
  },
  {
   "cell_type": "markdown",
   "id": "d7aea7cc",
   "metadata": {},
   "source": [
    "### Get modal split for each study"
   ]
  },
  {
   "cell_type": "markdown",
   "id": "a8e6a62c",
   "metadata": {},
   "source": [
    "#### Apply Trackintel function to get the modes for Geolife"
   ]
  },
  {
   "cell_type": "code",
   "execution_count": 78,
   "id": "228615dc",
   "metadata": {},
   "outputs": [],
   "source": [
    "is_geolife = triplegs[\"study\"] == \"Geolife\"\n",
    "tpls_geolife = triplegs[is_geolife]"
   ]
  },
  {
   "cell_type": "code",
   "execution_count": 79,
   "id": "2babfc2a",
   "metadata": {},
   "outputs": [],
   "source": [
    "# predict transport mode\n",
    "triplegs.loc[is_geolife, \"mode\"] = ti.analysis.labelling.predict_transport_mode(triplegs[is_geolife])"
   ]
  },
  {
   "cell_type": "code",
   "execution_count": 80,
   "id": "44f8eeda",
   "metadata": {
    "scrolled": true
   },
   "outputs": [],
   "source": [
    "# we need to map the mode labels from GC1 / GC2 / Yumuv to the ones from geolife\n",
    "mode_to_category = {\n",
    "    \"Mode::Bicycle\": \"slow\",\n",
    "    \"Mode::Car\": \"motorized\",\n",
    "    \"Mode::Train\": \"fast\",\n",
    "    \"Mode::Walk\": \"slow\",\n",
    "    \"Mode::Tram\": \"motorized\",\n",
    "    \"Mode::Bus\": \"motorized\",\n",
    "    \"Mode::Airplane\": \"fast\",\n",
    "    \"Mode::Coach\": \"motorized\",\n",
    "    \"Mode::Ebicycle\": \"slow\",\n",
    "    \"Mode::Boat\": \"slow\",\n",
    "    \"Mode::Ecar\": \"motorized\",\n",
    "    \"fast_mobility\": \"fast\",\n",
    "    \"motorized_mobility\": \"motorized\",\n",
    "    \"slow_mobility\": \"slow\",\n",
    "    \"airplane\": \"fast\",\n",
    "    \"bicycle\": \"slow\",\n",
    "    \"boat\": \"slow\",\n",
    "    \"bus\": \"motorized\",\n",
    "    \"car\": \"motorized\",\n",
    "    \"coach\": \"motorized\",\n",
    "    \"ebicycle\": \"slow\",\n",
    "    \"kick_scooter\": \"slow\",\n",
    "    \"ecar\": \"motorized\",\n",
    "    \"motorbike\": \"motorized\",\n",
    "    \"ski\": \"slow\",\n",
    "    \"train\": \"fast\",\n",
    "    \"tram\": \"motorized\",\n",
    "    \"walk\": \"slow\",\n",
    "    \"fast\": \"fast\",\n",
    "    \"motorized\": \"motorized\",\n",
    "    \"slow\": \"slow\",\n",
    "}\n",
    "# change mode labels with the above mapping\n",
    "triplegs[\"mode\"] = triplegs[\"mode\"].map(mode_to_category)\n",
    "triplegs.dropna(subset=[\"mode\"], inplace=True)"
   ]
  },
  {
   "cell_type": "markdown",
   "id": "40113f97",
   "metadata": {},
   "source": [
    "### Get modal split by count, duration and distance"
   ]
  },
  {
   "cell_type": "code",
   "execution_count": 81,
   "id": "30436c81",
   "metadata": {},
   "outputs": [
    {
     "data": {
      "text/html": [
       "<div>\n",
       "<style scoped>\n",
       "    .dataframe tbody tr th:only-of-type {\n",
       "        vertical-align: middle;\n",
       "    }\n",
       "\n",
       "    .dataframe tbody tr th {\n",
       "        vertical-align: top;\n",
       "    }\n",
       "\n",
       "    .dataframe thead th {\n",
       "        text-align: right;\n",
       "    }\n",
       "</style>\n",
       "<table border=\"1\" class=\"dataframe\">\n",
       "  <thead>\n",
       "    <tr style=\"text-align: right;\">\n",
       "      <th>mode</th>\n",
       "      <th>fast</th>\n",
       "      <th>motorized</th>\n",
       "      <th>slow</th>\n",
       "    </tr>\n",
       "    <tr>\n",
       "      <th>study</th>\n",
       "      <th></th>\n",
       "      <th></th>\n",
       "      <th></th>\n",
       "    </tr>\n",
       "  </thead>\n",
       "  <tbody>\n",
       "    <tr>\n",
       "      <th>Geolife</th>\n",
       "      <td>0.009270</td>\n",
       "      <td>0.409317</td>\n",
       "      <td>0.581413</td>\n",
       "    </tr>\n",
       "    <tr>\n",
       "      <th>Green Class 1</th>\n",
       "      <td>0.128245</td>\n",
       "      <td>0.377709</td>\n",
       "      <td>0.494046</td>\n",
       "    </tr>\n",
       "    <tr>\n",
       "      <th>Green Class 2</th>\n",
       "      <td>0.138213</td>\n",
       "      <td>0.257223</td>\n",
       "      <td>0.604564</td>\n",
       "    </tr>\n",
       "    <tr>\n",
       "      <th>Yumuv</th>\n",
       "      <td>0.067272</td>\n",
       "      <td>0.259749</td>\n",
       "      <td>0.672979</td>\n",
       "    </tr>\n",
       "  </tbody>\n",
       "</table>\n",
       "</div>"
      ],
      "text/plain": [
       "mode               fast  motorized      slow\n",
       "study                                       \n",
       "Geolife        0.009270   0.409317  0.581413\n",
       "Green Class 1  0.128245   0.377709  0.494046\n",
       "Green Class 2  0.138213   0.257223  0.604564\n",
       "Yumuv          0.067272   0.259749  0.672979"
      ]
     },
     "execution_count": 81,
     "metadata": {},
     "output_type": "execute_result"
    }
   ],
   "source": [
    "# count\n",
    "modal_split_count = triplegs.groupby(\"study\").apply(calculate_modal_split, metric=\"count\", norm=True)\n",
    "modal_split_count = modal_split_count.droplevel(1)\n",
    "modal_split_count"
   ]
  },
  {
   "cell_type": "code",
   "execution_count": 82,
   "id": "5b3709de",
   "metadata": {},
   "outputs": [
    {
     "data": {
      "text/html": [
       "<div>\n",
       "<style scoped>\n",
       "    .dataframe tbody tr th:only-of-type {\n",
       "        vertical-align: middle;\n",
       "    }\n",
       "\n",
       "    .dataframe tbody tr th {\n",
       "        vertical-align: top;\n",
       "    }\n",
       "\n",
       "    .dataframe thead th {\n",
       "        text-align: right;\n",
       "    }\n",
       "</style>\n",
       "<table border=\"1\" class=\"dataframe\">\n",
       "  <thead>\n",
       "    <tr style=\"text-align: right;\">\n",
       "      <th>mode</th>\n",
       "      <th>fast</th>\n",
       "      <th>motorized</th>\n",
       "      <th>slow</th>\n",
       "    </tr>\n",
       "    <tr>\n",
       "      <th>study</th>\n",
       "      <th></th>\n",
       "      <th></th>\n",
       "      <th></th>\n",
       "    </tr>\n",
       "  </thead>\n",
       "  <tbody>\n",
       "    <tr>\n",
       "      <th>Geolife</th>\n",
       "      <td>0.025935</td>\n",
       "      <td>0.467538</td>\n",
       "      <td>0.506527</td>\n",
       "    </tr>\n",
       "    <tr>\n",
       "      <th>Green Class 1</th>\n",
       "      <td>0.281664</td>\n",
       "      <td>0.474181</td>\n",
       "      <td>0.244155</td>\n",
       "    </tr>\n",
       "    <tr>\n",
       "      <th>Green Class 2</th>\n",
       "      <td>0.285285</td>\n",
       "      <td>0.320476</td>\n",
       "      <td>0.394239</td>\n",
       "    </tr>\n",
       "    <tr>\n",
       "      <th>Yumuv</th>\n",
       "      <td>0.144173</td>\n",
       "      <td>0.358140</td>\n",
       "      <td>0.497688</td>\n",
       "    </tr>\n",
       "  </tbody>\n",
       "</table>\n",
       "</div>"
      ],
      "text/plain": [
       "mode               fast  motorized      slow\n",
       "study                                       \n",
       "Geolife        0.025935   0.467538  0.506527\n",
       "Green Class 1  0.281664   0.474181  0.244155\n",
       "Green Class 2  0.285285   0.320476  0.394239\n",
       "Yumuv          0.144173   0.358140  0.497688"
      ]
     },
     "execution_count": 82,
     "metadata": {},
     "output_type": "execute_result"
    }
   ],
   "source": [
    "# duration\n",
    "modal_split_duration = triplegs.groupby(\"study\").apply(calculate_modal_split, metric=\"duration\", norm=True)\n",
    "modal_split_duration = modal_split_duration.droplevel(1)\n",
    "modal_split_duration"
   ]
  },
  {
   "cell_type": "code",
   "execution_count": 83,
   "id": "0143242c",
   "metadata": {},
   "outputs": [
    {
     "data": {
      "text/html": [
       "<div>\n",
       "<style scoped>\n",
       "    .dataframe tbody tr th:only-of-type {\n",
       "        vertical-align: middle;\n",
       "    }\n",
       "\n",
       "    .dataframe tbody tr th {\n",
       "        vertical-align: top;\n",
       "    }\n",
       "\n",
       "    .dataframe thead th {\n",
       "        text-align: right;\n",
       "    }\n",
       "</style>\n",
       "<table border=\"1\" class=\"dataframe\">\n",
       "  <thead>\n",
       "    <tr style=\"text-align: right;\">\n",
       "      <th>mode</th>\n",
       "      <th>fast</th>\n",
       "      <th>motorized</th>\n",
       "      <th>slow</th>\n",
       "    </tr>\n",
       "    <tr>\n",
       "      <th>study</th>\n",
       "      <th></th>\n",
       "      <th></th>\n",
       "      <th></th>\n",
       "    </tr>\n",
       "  </thead>\n",
       "  <tbody>\n",
       "    <tr>\n",
       "      <th>Geolife</th>\n",
       "      <td>0.627340</td>\n",
       "      <td>0.297629</td>\n",
       "      <td>0.075030</td>\n",
       "    </tr>\n",
       "    <tr>\n",
       "      <th>Green Class 1</th>\n",
       "      <td>0.539562</td>\n",
       "      <td>0.421444</td>\n",
       "      <td>0.038994</td>\n",
       "    </tr>\n",
       "    <tr>\n",
       "      <th>Green Class 2</th>\n",
       "      <td>0.701996</td>\n",
       "      <td>0.230656</td>\n",
       "      <td>0.067348</td>\n",
       "    </tr>\n",
       "    <tr>\n",
       "      <th>Yumuv</th>\n",
       "      <td>0.451134</td>\n",
       "      <td>0.443738</td>\n",
       "      <td>0.105128</td>\n",
       "    </tr>\n",
       "  </tbody>\n",
       "</table>\n",
       "</div>"
      ],
      "text/plain": [
       "mode               fast  motorized      slow\n",
       "study                                       \n",
       "Geolife        0.627340   0.297629  0.075030\n",
       "Green Class 1  0.539562   0.421444  0.038994\n",
       "Green Class 2  0.701996   0.230656  0.067348\n",
       "Yumuv          0.451134   0.443738  0.105128"
      ]
     },
     "execution_count": 83,
     "metadata": {},
     "output_type": "execute_result"
    }
   ],
   "source": [
    "# distance\n",
    "modal_split_list = []\n",
    "for study, tpls in triplegs.groupby(\"study\"):\n",
    "    modal_split_distance = calculate_modal_split(tpls, metric=\"distance\", norm=True)\n",
    "    modal_split_distance[\"study\"] = study\n",
    "    modal_split_list.append(modal_split_distance)\n",
    "\n",
    "modal_split_distance = pd.concat(modal_split_list).set_index(\"study\")\n",
    "modal_split_distance"
   ]
  },
  {
   "cell_type": "markdown",
   "id": "bf55d360",
   "metadata": {},
   "source": [
    "### Plotting"
   ]
  },
  {
   "cell_type": "code",
   "execution_count": 84,
   "id": "111c13d7",
   "metadata": {},
   "outputs": [],
   "source": [
    "def plot_modal_split_comparison(name_df, modal_split_df):\n",
    "\n",
    "    fig, ax = plt.subplots(figsize=(12, 8))\n",
    "    modal_split_df.plot.bar(stacked=True, color=color, ax=ax)\n",
    "    fs = 16\n",
    "    plt.legend(loc=\"upper right\", framealpha=1, fontsize=fs)\n",
    "    plt.xlabel(\"Dataset\", fontsize=fs)\n",
    "    plt.ylabel(\"Modal split\", fontsize=fs)\n",
    "    plt.xticks(fontsize=fs)\n",
    "    plt.tight_layout()\n",
    "    plt.savefig(os.path.join(out_path, f\"modal_split_all_{name_df}.pdf\"), bbox_inches=\"tight\")\n",
    "    plt.show()"
   ]
  },
  {
   "cell_type": "code",
   "execution_count": 85,
   "id": "61fe4f6c",
   "metadata": {},
   "outputs": [
    {
     "data": {
      "text/plain": [
       "array(['slow', 'motorized', 'fast'], dtype=object)"
      ]
     },
     "execution_count": 85,
     "metadata": {},
     "output_type": "execute_result"
    }
   ],
   "source": [
    "triplegs[\"mode\"].unique()"
   ]
  },
  {
   "cell_type": "code",
   "execution_count": 86,
   "id": "6138154c",
   "metadata": {},
   "outputs": [],
   "source": [
    "# triplegs\n",
    "\n",
    "# extent mode_to_category mapping with the upper case / colon versions\n",
    "# further_cols = list(modal_split_count[\"gc1\"].columns)\n",
    "# for col in further_cols:\n",
    "#    mode_to_category[col] = mode_to_category[col.split(\"::\")[1].lower()]"
   ]
  },
  {
   "cell_type": "code",
   "execution_count": 87,
   "id": "310dfb4c",
   "metadata": {},
   "outputs": [
    {
     "data": {
      "text/plain": [
       "{'fast': '#1D2F6F', 'motorized': '#8390FA', 'slow': '#6EAF46'}"
      ]
     },
     "execution_count": 87,
     "metadata": {},
     "output_type": "execute_result"
    }
   ],
   "source": [
    "colors = [\"#1D2F6F\", \"#8390FA\", \"#6EAF46\", \"#FAC748\"]\n",
    "color = dict(zip([\"fast\", \"motorized\", \"slow\"], [\"#1D2F6F\", \"#8390FA\", \"#6EAF46\"]))\n",
    "color"
   ]
  },
  {
   "cell_type": "code",
   "execution_count": 88,
   "id": "6451e1ee",
   "metadata": {
    "scrolled": false
   },
   "outputs": [
    {
     "data": {
      "image/png": "[encoded data removed]",
      "text/plain": [
       "<Figure size 864x576 with 1 Axes>"
      ]
     },
     "metadata": {
      "needs_background": "light"
     },
     "output_type": "display_data"
    },
    {
     "data": {
      "image/png": "[encoded data removed]",
      "text/plain": [
       "<Figure size 864x576 with 1 Axes>"
      ]
     },
     "metadata": {
      "needs_background": "light"
     },
     "output_type": "display_data"
    },
    {
     "data": {
      "image/png": "[encoded data removed]",
      "text/plain": [
       "<Figure size 864x576 with 1 Axes>"
      ]
     },
     "metadata": {
      "needs_background": "light"
     },
     "output_type": "display_data"
    }
   ],
   "source": [
    "# plotting loop\n",
    "for name_df, modal_split_df in zip(\n",
    "    [\"count\", \"duration\", \"distance\"],\n",
    "    [modal_split_count, modal_split_duration, modal_split_distance],\n",
    "):\n",
    "    plot_modal_split_comparison(name_df, modal_split_df)"
   ]
  },
  {
   "cell_type": "markdown",
   "id": "51cfe2d1",
   "metadata": {},
   "source": [
    "## 6) Home / Work labeling"
   ]
  },
  {
   "cell_type": "code",
   "execution_count": 89,
   "id": "4d87c649",
   "metadata": {},
   "outputs": [],
   "source": [
    "# DEFINE MAIN VARIABLE TO PLOT HERE\n",
    "home_work_variable = \"home\""
   ]
  },
  {
   "cell_type": "markdown",
   "id": "6cd71756",
   "metadata": {},
   "source": [
    "#### Compute staypoint purpose for Geolife and Yumuv"
   ]
  },
  {
   "cell_type": "code",
   "execution_count": 90,
   "id": "106a0fe0",
   "metadata": {},
   "outputs": [],
   "source": [
    "yumuv_geolife_flag = staypoints[\"study\"].isin([\"Geolife\", \"Yumuv\"])\n",
    "# prefilter argument dict can be replaced with prefilter=False after the next patch\n",
    "staypoints.loc[yumuv_geolife_flag, \"purpose\"] = ti.analysis.location_identifier(\n",
    "    staypoints.loc[yumuv_geolife_flag], method=\"FREQ\", pre_filter=False\n",
    ")[\"purpose\"]"
   ]
  },
  {
   "cell_type": "code",
   "execution_count": 91,
   "id": "38c9d44c",
   "metadata": {},
   "outputs": [],
   "source": [
    "sp_home = staypoints[staypoints[\"purpose\"] == \"home\"].copy()\n",
    "sp_work = staypoints[staypoints[\"purpose\"] == \"work\"].copy()"
   ]
  },
  {
   "cell_type": "markdown",
   "id": "9361815e",
   "metadata": {},
   "source": [
    "#### Prepare data"
   ]
  },
  {
   "cell_type": "code",
   "execution_count": 92,
   "id": "c8c846fb",
   "metadata": {},
   "outputs": [],
   "source": [
    "# Use either the home staypoints or the work staypoints\n",
    "if home_work_variable == \"home\":\n",
    "    sp_study = sp_home.copy()\n",
    "elif home_work_variable == \"work\":\n",
    "    sp_study = sp_work.copy()\n",
    "\n",
    "# convert timestamp columns\n",
    "sp_study.loc[:, \"started_at\"] = sp_study.loc[:, \"started_at\"].dt.tz_convert(\"Europe/Paris\")\n",
    "sp_study.loc[:, \"finished_at\"] = sp_study.loc[:, \"finished_at\"].dt.tz_convert(\"Europe/Paris\")"
   ]
  },
  {
   "cell_type": "code",
   "execution_count": 93,
   "id": "16501378",
   "metadata": {},
   "outputs": [
    {
     "name": "stderr",
     "output_type": "stream",
     "text": [
      "C:\\Users\\henry\\AppData\\Local\\Temp\\ipykernel_79688\\1694343918.py:4: SettingWithCopyWarning: \n",
      "A value is trying to be set on a copy of a slice from a DataFrame.\n",
      "Try using .loc[row_indexer,col_indexer] = value instead\n",
      "\n",
      "See the caveats in the documentation: https://pandas.pydata.org/pandas-docs/stable/user_guide/indexing.html#returning-a-view-versus-a-copy\n",
      "  sp_study_[\"date\"] = sp_study_.apply(lambda x: pd.date_range(x[\"started_at\"], x[\"finished_at\"], freq=\"min\"), axis=1)\n"
     ]
    }
   ],
   "source": [
    "# chop up durations to minute-by-minute time series\n",
    "sp_study_ = sp_study[[\"started_at\", \"finished_at\", \"study\"]]\n",
    "\n",
    "sp_study_[\"date\"] = sp_study_.apply(lambda x: pd.date_range(x[\"started_at\"], x[\"finished_at\"], freq=\"min\"), axis=1)\n",
    "sp_study_expl = sp_study_.explode(\"date\", ignore_index=True).drop(columns=[\"started_at\", \"finished_at\"])"
   ]
  },
  {
   "cell_type": "code",
   "execution_count": 94,
   "id": "9e3acbe1",
   "metadata": {},
   "outputs": [],
   "source": [
    "# create hour&minute attributes used for aggregation later. Get Geolife in local time zone\n",
    "geolife_flag = sp_study_expl[\"study\"] == \"Geolife\"\n",
    "\n",
    "sp_study_expl.loc[~geolife_flag, \"hour\"] = sp_study_expl.loc[~geolife_flag, \"date\"].dt.hour\n",
    "sp_study_expl.loc[geolife_flag, \"hour\"] = sp_study_expl.loc[geolife_flag, \"date\"].dt.tz_convert(\"Asia/Shanghai\").dt.hour\n",
    "sp_study_expl[\"minute\"] = sp_study_expl.date.dt.minute"
   ]
  },
  {
   "cell_type": "markdown",
   "id": "823f9217",
   "metadata": {},
   "source": [
    "#### Plotting"
   ]
  },
  {
   "cell_type": "code",
   "execution_count": 95,
   "id": "977c4a29",
   "metadata": {},
   "outputs": [
    {
     "data": {
      "image/png": "[encoded data removed]",
      "text/plain": [
       "<Figure size 432x288 with 1 Axes>"
      ]
     },
     "metadata": {
      "needs_background": "light"
     },
     "output_type": "display_data"
    }
   ],
   "source": [
    "count_by_minute = pd.DataFrame(sp_study_expl.groupby([\"study\", \"hour\", \"minute\"]).size())\n",
    "count_by_minute.index.rename([\"study\", \"hour\", \"minute\"], inplace=True)\n",
    "count_by_minute.reset_index(inplace=True)\n",
    "count_by_minute[\"minute_of_day\"] = count_by_minute[\"hour\"] * 60 + count_by_minute[\"minute\"]\n",
    "\n",
    "\n",
    "count_by_minute_pivot = count_by_minute.pivot(columns=\"study\", index=\"minute_of_day\", values=0)\n",
    "count_by_minute_pivot = count_by_minute_pivot / count_by_minute_pivot.sum(axis=0)\n",
    "count_by_minute_pivot.plot()\n",
    "plt.xticks(np.arange(0, len(count_by_minute_pivot.index), 120), np.arange(0, 24, 2))\n",
    "plt.legend(loc=\"lower left\")\n",
    "plt.ylabel(f\"Density of {home_work_variable} staypoint duration\")\n",
    "plt.xlabel(\"Hour of the day\")\n",
    "plt.savefig(os.path.join(out_path, f\"plot_activity_distribution_{home_work_variable}.pdf\"))\n",
    "plt.show()"
   ]
  },
  {
   "cell_type": "code",
   "execution_count": 96,
   "id": "4c86eda8",
   "metadata": {},
   "outputs": [
    {
     "data": {
      "image/png": "[encoded data removed]",
      "text/plain": [
       "<Figure size 864x288 with 2 Axes>"
      ]
     },
     "metadata": {
      "needs_background": "light"
     },
     "output_type": "display_data"
    }
   ],
   "source": [
    "fig, ax = plt.subplots(figsize=(12, 4))\n",
    "home_slots = count_by_minute_pivot.values.transpose()\n",
    "plt.imshow(home_slots, aspect=100)\n",
    "for i in range(4):\n",
    "    plt.plot([0, home_slots.shape[1]], [i + 0.5, i + 0.5], c=\"black\", lw=1)\n",
    "plt.xlim(0, 24)\n",
    "plt.yticks(np.arange(4), count_by_minute_pivot.columns)\n",
    "plt.xlabel(\"Hour of the day\")\n",
    "ax.xaxis.tick_top()\n",
    "ax.xaxis.tickpad = -2\n",
    "ax.xaxis.set_label_position(\"top\")\n",
    "plt.xticks(np.arange(0, len(count_by_minute_pivot.index), 120), np.arange(0, 24, 2))\n",
    "# ax.set_xticklabels(np.arange(0, len(minute_slots), 120), np.arange(0,24, 2))\n",
    "cbar = plt.colorbar(orientation=\"horizontal\", ax=ax, aspect=16)  # anchor=(-1, -1))\n",
    "cbar.set_label(f\"density\")\n",
    "plt.tight_layout()\n",
    "plt.savefig(\n",
    "    os.path.join(out_path, f\"imshow_act_distribution_{home_work_variable}.pdf\"),\n",
    "    bbox_inches=\"tight\",\n",
    ")\n",
    "plt.show()"
   ]
  },
  {
   "cell_type": "markdown",
   "id": "aff36281",
   "metadata": {},
   "source": [
    "## 7) Single user visualization"
   ]
  },
  {
   "cell_type": "markdown",
   "id": "27509d1c",
   "metadata": {},
   "source": [
    "### 7.1 Visualize positionfixes, staypoints and triplegs"
   ]
  },
  {
   "cell_type": "code",
   "execution_count": null,
   "id": "e3c67f9a",
   "metadata": {},
   "outputs": [],
   "source": []
  },
  {
   "cell_type": "code",
   "execution_count": 97,
   "id": "6b90cfc4",
   "metadata": {},
   "outputs": [],
   "source": [
    "x_min = 116.2\n",
    "x_max = 116.5\n",
    "y_min = 39.8\n",
    "y_max = 40.1\n",
    "sw = Point(x_min, y_min)\n",
    "se = Point(x_max, y_min)\n",
    "ne = Point(x_max, y_max)\n",
    "nw = Point(x_min, y_max)\n",
    "\n",
    "study_area = gpd.GeoDataFrame(\n",
    "    columns=[\"geometry\"],\n",
    "    data=[Polygon([sw, se, ne, nw])],\n",
    "    geometry=\"geometry\",\n",
    "    crs=\"EPSG:4326\",\n",
    ")"
   ]
  },
  {
   "cell_type": "code",
   "execution_count": 98,
   "id": "70110f98",
   "metadata": {},
   "outputs": [],
   "source": [
    "# Load Geolife data of one user\n",
    "tpls_vis = triplegs[triplegs[\"user_id\"] == \"51\"].copy()\n",
    "tpls_vis = ti.preprocessing.filter.spatial_filter(tpls_vis, study_area, method=\"within\")"
   ]
  },
  {
   "cell_type": "code",
   "execution_count": 99,
   "id": "6748fc7b",
   "metadata": {},
   "outputs": [],
   "source": [
    "# Get staypoints as well for this user\n",
    "sp_vis = staypoints[staypoints[\"user_id\"] == \"51\"].copy()\n",
    "sp_vis = ti.preprocessing.filter.spatial_filter(sp_vis, study_area, method=\"within\")"
   ]
  },
  {
   "cell_type": "code",
   "execution_count": 100,
   "id": "68d91e74",
   "metadata": {},
   "outputs": [],
   "source": [
    "# Get positionfixes for this user - using the pfs obtained with read_geolife function (see top of notebook)\n",
    "pfs_vis = pfs_geolife[pfs_geolife[\"user_id\"] == 51]\n",
    "pfs_vis = ti.preprocessing.filter.spatial_filter(pfs_vis, study_area, method=\"within\")\n",
    "# Other option: Load from database that stores Geolife positionfixes\n",
    "# sql = f\"SELECT * FROM geolife.positionfixes WHERE user_id='51'\"\n",
    "# pfs_vis = ti.io.read_positionfixes_postgis(sql, con, index_col=\"id\")"
   ]
  },
  {
   "cell_type": "code",
   "execution_count": 101,
   "id": "cfed5202",
   "metadata": {},
   "outputs": [],
   "source": [
    "ti.visualization.plot_triplegs(\n",
    "    tpls_vis,\n",
    "    staypoints=sp_vis,\n",
    "    plot_osm=True,\n",
    "    positionfixes=pfs_vis,\n",
    "    staypoints_radius=150,\n",
    "    out_filename=os.path.join(out_path, \"geolife_tpls_sp_pfs\"),\n",
    ")"
   ]
  },
  {
   "cell_type": "markdown",
   "id": "b6c2a529",
   "metadata": {},
   "source": [
    "#### Plot only positionfixes"
   ]
  },
  {
   "cell_type": "code",
   "execution_count": 102,
   "id": "ef33e018",
   "metadata": {},
   "outputs": [],
   "source": [
    "ti.visualization.plot_positionfixes(pfs_vis, plot_osm=True, out_filename=os.path.join(out_path, \"geolife_pfs\"))"
   ]
  },
  {
   "cell_type": "markdown",
   "id": "ba8006fa",
   "metadata": {},
   "source": [
    "#### Plot staypoints with positionfixes"
   ]
  },
  {
   "cell_type": "code",
   "execution_count": 103,
   "id": "3222c99a",
   "metadata": {},
   "outputs": [],
   "source": [
    "ti.visualization.plot_staypoints(\n",
    "    sp_vis,\n",
    "    positionfixes=pfs_vis,\n",
    "    plot_osm=True,\n",
    "    radius=150,\n",
    "    out_filename=os.path.join(out_path, \"geolife_sp_pfs\"),\n",
    ")"
   ]
  },
  {
   "cell_type": "markdown",
   "id": "c4c48f7a",
   "metadata": {},
   "source": [
    "### 7.2) Modal split visualization"
   ]
  },
  {
   "cell_type": "code",
   "execution_count": 104,
   "id": "6107094a",
   "metadata": {},
   "outputs": [],
   "source": [
    "# Use one GC2 user for this visualization\n",
    "tpls_vis = triplegs[triplegs[\"user_id\"] == \"c9aa08e2-1a5d-4d41-ae62-6110a9072b23\"].copy()"
   ]
  },
  {
   "cell_type": "code",
   "execution_count": 168,
   "id": "591055e1",
   "metadata": {},
   "outputs": [
    {
     "data": {
      "text/plain": [
       "id\n",
       "4489985            slow\n",
       "4481153       motorized\n",
       "4521973       motorized\n",
       "4489986       motorized\n",
       "4365744       motorized\n",
       "                ...    \n",
       "8003769599         slow\n",
       "3661491            fast\n",
       "3692510            slow\n",
       "3740982            slow\n",
       "3783444            fast\n",
       "Name: mode, Length: 2891, dtype: object"
      ]
     },
     "execution_count": 168,
     "metadata": {},
     "output_type": "execute_result"
    }
   ],
   "source": [
    "# rename to mode\n",
    "tpls_vis[\"mode\"] = tpls_vis[\"mode_detected\"]"
   ]
  },
  {
   "cell_type": "markdown",
   "id": "c1717fb2",
   "metadata": {},
   "source": [
    "#### Modal split - by count"
   ]
  },
  {
   "cell_type": "code",
   "execution_count": null,
   "id": "ae1057e9",
   "metadata": {
    "scrolled": true
   },
   "outputs": [],
   "source": [
    "# compute modal split\n",
    "modal_split = calculate_modal_split(tpls_vis, freq=\"M\", metric=\"count\", per_user=False, norm=True)"
   ]
  },
  {
   "cell_type": "code",
   "execution_count": null,
   "id": "33ee4b57",
   "metadata": {},
   "outputs": [],
   "source": [
    "# order the transport modes for colour choices\n",
    "column_order = [\n",
    "    \"Mode::Car\",\n",
    "    \"Mode::Bicycle\",\n",
    "    \"Mode::Walk\",\n",
    "    \"Mode::Bus\",\n",
    "    \"Mode::Train\",\n",
    "    \"Mode::Ecar\",\n",
    "    \"Mode::Ebicycle\",\n",
    "    \"Mode::Airplane\",\n",
    "]\n",
    "modal_split = modal_split[column_order]"
   ]
  },
  {
   "cell_type": "code",
   "execution_count": null,
   "id": "2ab14611",
   "metadata": {
    "scrolled": false
   },
   "outputs": [],
   "source": [
    "fig, ax = plt.subplots(figsize=(5, 3))\n",
    "ax = ti.visualization.modal_split.plot_modal_split(\n",
    "    modal_split,\n",
    "    date_fmt_x_axis=\"%b\",\n",
    "    y_label=\"Percentage of daily count\",\n",
    "    skip_xticks=0,\n",
    "    n_col_legend=4,\n",
    "    fig=fig,\n",
    "    axis=ax,\n",
    "    borderaxespad=2,\n",
    ")\n",
    "fig.autofmt_xdate()\n",
    "plt.savefig(os.path.join(out_path, \"modal_split_count\"))"
   ]
  },
  {
   "cell_type": "markdown",
   "id": "6115d1e6",
   "metadata": {},
   "source": [
    "#### Same for distance"
   ]
  },
  {
   "cell_type": "code",
   "execution_count": null,
   "id": "26113904",
   "metadata": {},
   "outputs": [],
   "source": [
    "modal_split = calculate_modal_split(tpls_vis, freq=\"M\", metric=\"distance\", per_user=False, norm=True)\n",
    "modal_split = modal_split[column_order]"
   ]
  },
  {
   "cell_type": "code",
   "execution_count": null,
   "id": "f87588a0",
   "metadata": {
    "scrolled": true
   },
   "outputs": [],
   "source": [
    "fig, ax = plt.subplots(figsize=(5, 3))\n",
    "ax = ti.visualization.modal_split.plot_modal_split(\n",
    "    modal_split,\n",
    "    date_fmt_x_axis=\"%b\",\n",
    "    y_label=\"Percentage of daily distance\",\n",
    "    skip_xticks=0,\n",
    "    n_col_legend=4,\n",
    "    fig=fig,\n",
    "    axis=ax,\n",
    "    borderaxespad=2,\n",
    ")\n",
    "fig.autofmt_xdate()\n",
    "plt.savefig(os.path.join(out_path, \"modal_split_distance\"))"
   ]
  },
  {
   "cell_type": "code",
   "execution_count": null,
   "id": "324847f4",
   "metadata": {},
   "outputs": [],
   "source": []
  }
 ],
 "metadata": {
  "kernelspec": {
   "display_name": "Python 3 (ipykernel)",
   "language": "python",
   "name": "python3"
  },
  "language_info": {
   "codemirror_mode": {
    "name": "ipython",
    "version": 3
   },
   "file_extension": ".py",
   "mimetype": "text/x-python",
   "name": "python",
   "nbconvert_exporter": "python",
   "pygments_lexer": "ipython3",
   "version": "3.10.4"
  }
 },
 "nbformat": 4,
 "nbformat_minor": 5
}
